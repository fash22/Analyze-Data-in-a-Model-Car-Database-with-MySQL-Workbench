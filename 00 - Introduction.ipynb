{
    "metadata": {
        "kernelspec": {
            "name": "SQL",
            "display_name": "SQL",
            "language": "sql"
        },
        "language_info": {
            "name": "sql",
            "version": ""
        }
    },
    "nbformat_minor": 2,
    "nbformat": 4,
    "cells": [
        {
            "cell_type": "markdown",
            "source": [
                "# Analyze Data in a Model Car Database\r\n",
                "\r\n",
                "Welcome to my SQL Data Analysis Project!\r\n",
                "In this project, I was task to analyze the company database of Mint Classics with the goal of helping them in inventory-related business decision making.\r\n",
                "\r\n",
                "Mint classics is a fictional company retailing classic cars and other vehicles. As of the moment, the company is planning to close one of their storage facilities.\r\n",
                "\r\n",
                "As a data analyst, I was assigned to look deeper into the data model of their business. I was given a MySQL database model containing relevant information about their business. Using this data, they would like to hear some data-backed recommendations for re-organizing or reducing inventory. The overall data model of their company database can be seen below:\r\n",
                "\r\n",
                "\r\n",
                "![Company ER Diagram](https://d3c33hcgiwev3.cloudfront.net/imageAssetProxy.v1/jBRNreo5Sh-41b3l0jBkCw_c3a54862d56945659bdb44bc07a368f1_MintClassicsDataModel.png?expiry=1706486400000&hmac=KmBh8DqGeVDX9WYEUBNzxyLNC5K9qkbKRulE0Hd4oN0)\r\n",
                "\r\n",
                "This project has three main objectives:\r\n",
                "\r\n",
                "1. Explore products currently in inventory.\r\n",
                "2. Determine important factors that may influence inventory re-organization/reduction.\r\n",
                "3. Provide analytic insights and data-driven recommendations.\r\n",
                "\r\n",
                "\r\n",
                "To know more about the specific details of this project, you checkout this [guided project](https://www.coursera.org/learn/showcase-analyze-data-model-car-database-mysql-workbench/home/week/1) from Coursera.\r\n",
                ""
            ],
            "metadata": {
                "azdata_cell_guid": "9b8a8d39-c124-4b6d-bbde-4410b02907af"
            },
            "attachments": {}
        }
    ]
}