{
    "metadata": {
        "kernelspec": {
            "name": "SQL",
            "display_name": "SQL",
            "language": "sql"
        },
        "language_info": {
            "name": "sql",
            "version": ""
        }
    },
    "nbformat_minor": 2,
    "nbformat": 4,
    "cells": [
        {
            "cell_type": "markdown",
            "source": [
                "# Exploring the Current Inventory\n",
                "\n",
                "In this notebook, I will explore several relevant tables to identify and count the current products in each of the company's warehouses."
            ],
            "metadata": {
                "azdata_cell_guid": "025cc312-e11d-4978-8189-c4e0485ca5fb"
            },
            "attachments": {}
        },
        {
            "cell_type": "markdown",
            "source": [
                "## Warehouse Information\n",
                "\n",
                "I'll start by exploring the number of warehouses. Based on the results of the query below, we can see that there are 4 warehouses distributed in the North, South, East, and West areas."
            ],
            "metadata": {
                "azdata_cell_guid": "6e9c78c2-d74d-42d5-a1e6-dd947291a2dc"
            },
            "attachments": {}
        },
        {
            "cell_type": "code",
            "source": [
                "SELECT * FROM mintclassics.warehouses"
            ],
            "metadata": {
                "azdata_cell_guid": "98c968c8-6430-41f6-b111-ade822157d2d",
                "language": "sql"
            },
            "outputs": [
                {
                    "output_type": "display_data",
                    "data": {
                        "text/html": "(4 row(s) affected)"
                    },
                    "metadata": {}
                },
                {
                    "output_type": "display_data",
                    "data": {
                        "text/html": "Total execution time: 00:00:01.023"
                    },
                    "metadata": {}
                },
                {
                    "output_type": "execute_result",
                    "metadata": {},
                    "execution_count": 1,
                    "data": {
                        "application/vnd.dataresource+json": {
                            "schema": {
                                "fields": [
                                    {
                                        "name": "warehouseCode"
                                    },
                                    {
                                        "name": "warehouseName"
                                    },
                                    {
                                        "name": "warehousePctCap"
                                    }
                                ]
                            },
                            "data": [
                                {
                                    "warehouseCode": "a",
                                    "warehouseName": "North",
                                    "warehousePctCap": "72"
                                },
                                {
                                    "warehouseCode": "b",
                                    "warehouseName": "East",
                                    "warehousePctCap": "67"
                                },
                                {
                                    "warehouseCode": "c",
                                    "warehouseName": "West",
                                    "warehousePctCap": "50"
                                },
                                {
                                    "warehouseCode": "d",
                                    "warehouseName": "South",
                                    "warehousePctCap": "75"
                                }
                            ]
                        },
                        "text/html": [
                            "<table>",
                            "<tr><th>warehouseCode</th><th>warehouseName</th><th>warehousePctCap</th></tr>",
                            "<tr><td>a</td><td>North</td><td>72</td></tr>",
                            "<tr><td>b</td><td>East</td><td>67</td></tr>",
                            "<tr><td>c</td><td>West</td><td>50</td></tr>",
                            "<tr><td>d</td><td>South</td><td>75</td></tr>",
                            "</table>"
                        ]
                    }
                }
            ],
            "execution_count": 1
        },
        {
            "cell_type": "markdown",
            "source": [
                "## Product Information\n",
                "\n",
                "The `product` table contains relevant details about each unique product. Based on the results of the below query, we have 110 products and a total of 555131 stocks across all warehouses.\n",
                "\n",
                "Upon checking the distribution of stocks per warehouse, it was found that the number of stocks in each warehouse was not evenly distributed. For instance, 39.48% of stocks were stored in the East warehouse. The north and west warehouse has an even amount of stocks.  The south warehouse contains the least amount of stocks comprising only 14.30%.\n",
                "\n",
                "With this imbalanced stock allocation, is closing the south warehouse a practical choice? How should we redistribute the stocks across the remaining three warehouses? Let's try to address these questions next."
            ],
            "metadata": {
                "language": "sql",
                "azdata_cell_guid": "4cf3da3a-9764-462d-be1e-a91a990a3ede"
            },
            "attachments": {}
        },
        {
            "cell_type": "code",
            "source": [
                "SELECT * FROM mintclassics.products\r\n",
                ""
            ],
            "metadata": {
                "language": "sql",
                "azdata_cell_guid": "40130401-c6d6-4783-aa90-3d27a99e4368"
            },
            "outputs": [
                {
                    "output_type": "display_data",
                    "data": {
                        "text/html": "(110 row(s) affected)"
                    },
                    "metadata": {}
                },
                {
                    "output_type": "display_data",
                    "data": {
                        "text/html": "Total execution time: 00:00:01.013"
                    },
                    "metadata": {}
                },
                {
                    "output_type": "execute_result",
                    "metadata": {},
                    "execution_count": 2,
                    "data": {
                        "application/vnd.dataresource+json": {
                            "schema": {
                                "fields": [
                                    {
                                        "name": "productCode"
                                    },
                                    {
                                        "name": "productName"
                                    },
                                    {
                                        "name": "productLine"
                                    },
                                    {
                                        "name": "productScale"
                                    },
                                    {
                                        "name": "productVendor"
                                    },
                                    {
                                        "name": "productDescription"
                                    },
                                    {
                                        "name": "quantityInStock"
                                    },
                                    {
                                        "name": "warehouseCode"
                                    },
                                    {
                                        "name": "buyPrice"
                                    },
                                    {
                                        "name": "MSRP"
                                    }
                                ]
                            },
                            "data": [
                                {
                                    "productCode": "S10_1678",
                                    "productName": "1969 Harley Davidson Ultimate Chopper",
                                    "productLine": "Motorcycles",
                                    "productScale": "1:10",
                                    "productVendor": "Min Lin Diecast",
                                    "productDescription": "This replica features working kickstand, front suspension, gear-shift lever, footbrake lever, drive chain, wheels and steering. All parts are particularly delicate due to their precise scale and require special care and attention.",
                                    "quantityInStock": "7933",
                                    "warehouseCode": "a",
                                    "buyPrice": "48.81",
                                    "MSRP": "95.70"
                                },
                                {
                                    "productCode": "S10_1949",
                                    "productName": "1952 Alpine Renault 1300",
                                    "productLine": "Classic Cars",
                                    "productScale": "1:10",
                                    "productVendor": "Classic Metal Creations",
                                    "productDescription": "Turnable front wheels; steering function; detailed interior; detailed engine; opening hood; opening trunk; opening doors; and detailed chassis.",
                                    "quantityInStock": "7305",
                                    "warehouseCode": "b",
                                    "buyPrice": "98.58",
                                    "MSRP": "214.30"
                                },
                                {
                                    "productCode": "S10_2016",
                                    "productName": "1996 Moto Guzzi 1100i",
                                    "productLine": "Motorcycles",
                                    "productScale": "1:10",
                                    "productVendor": "Highway 66 Mini Classics",
                                    "productDescription": "Official Moto Guzzi logos and insignias, saddle bags located on side of motorcycle, detailed engine, working steering, working suspension, two leather seats, luggage rack, dual exhaust pipes, small saddle bag located on handle bars, two-tone paint with chrome accents, superior die-cast detail , rotating wheels , working kick stand, diecast metal with plastic parts and baked enamel finish.",
                                    "quantityInStock": "6625",
                                    "warehouseCode": "a",
                                    "buyPrice": "68.99",
                                    "MSRP": "118.94"
                                },
                                {
                                    "productCode": "S10_4698",
                                    "productName": "2003 Harley-Davidson Eagle Drag Bike",
                                    "productLine": "Motorcycles",
                                    "productScale": "1:10",
                                    "productVendor": "Red Start Diecast",
                                    "productDescription": "Model features, official Harley Davidson logos and insignias, detachable rear wheelie bar, heavy diecast metal with resin parts, authentic multi-color tampo-printed graphics, separate engine drive belts, free-turning front fork, rotating tires and rear racing slick, certificate of authenticity, detailed engine, display stand\r\n, precision diecast replica, baked enamel finish, 1:10 scale model, removable fender, seat and tank cover piece for displaying the superior detail of the v-twin engine",
                                    "quantityInStock": "5582",
                                    "warehouseCode": "a",
                                    "buyPrice": "91.02",
                                    "MSRP": "193.66"
                                },
                                {
                                    "productCode": "S10_4757",
                                    "productName": "1972 Alfa Romeo GTA",
                                    "productLine": "Classic Cars",
                                    "productScale": "1:10",
                                    "productVendor": "Motor City Art Classics",
                                    "productDescription": "Features include: Turnable front wheels; steering function; detailed interior; detailed engine; opening hood; opening trunk; opening doors; and detailed chassis.",
                                    "quantityInStock": "3252",
                                    "warehouseCode": "b",
                                    "buyPrice": "85.68",
                                    "MSRP": "136.00"
                                },
                                {
                                    "productCode": "S10_4962",
                                    "productName": "1962 LanciaA Delta 16V",
                                    "productLine": "Classic Cars",
                                    "productScale": "1:10",
                                    "productVendor": "Second Gear Diecast",
                                    "productDescription": "Features include: Turnable front wheels; steering function; detailed interior; detailed engine; opening hood; opening trunk; opening doors; and detailed chassis.",
                                    "quantityInStock": "6791",
                                    "warehouseCode": "b",
                                    "buyPrice": "103.42",
                                    "MSRP": "147.74"
                                },
                                {
                                    "productCode": "S12_1099",
                                    "productName": "1968 Ford Mustang",
                                    "productLine": "Classic Cars",
                                    "productScale": "1:12",
                                    "productVendor": "Autoart Studio Design",
                                    "productDescription": "Hood, doors and trunk all open to reveal highly detailed interior features. Steering wheel actually turns the front wheels. Color dark green.",
                                    "quantityInStock": "68",
                                    "warehouseCode": "b",
                                    "buyPrice": "95.34",
                                    "MSRP": "194.57"
                                },
                                {
                                    "productCode": "S12_1108",
                                    "productName": "2001 Ferrari Enzo",
                                    "productLine": "Classic Cars",
                                    "productScale": "1:12",
                                    "productVendor": "Second Gear Diecast",
                                    "productDescription": "Turnable front wheels; steering function; detailed interior; detailed engine; opening hood; opening trunk; opening doors; and detailed chassis.",
                                    "quantityInStock": "3619",
                                    "warehouseCode": "b",
                                    "buyPrice": "95.59",
                                    "MSRP": "207.80"
                                },
                                {
                                    "productCode": "S12_1666",
                                    "productName": "1958 Setra Bus",
                                    "productLine": "Trucks and Buses",
                                    "productScale": "1:12",
                                    "productVendor": "Welly Diecast Productions",
                                    "productDescription": "Model features 30 windows, skylights & glare resistant glass, working steering system, original logos",
                                    "quantityInStock": "1579",
                                    "warehouseCode": "d",
                                    "buyPrice": "77.90",
                                    "MSRP": "136.67"
                                },
                                {
                                    "productCode": "S12_2823",
                                    "productName": "2002 Suzuki XREO",
                                    "productLine": "Motorcycles",
                                    "productScale": "1:12",
                                    "productVendor": "Unimax Art Galleries",
                                    "productDescription": "Official logos and insignias, saddle bags located on side of motorcycle, detailed engine, working steering, working suspension, two leather seats, luggage rack, dual exhaust pipes, small saddle bag located on handle bars, two-tone paint with chrome accents, superior die-cast detail , rotating wheels , working kick stand, diecast metal with plastic parts and baked enamel finish.",
                                    "quantityInStock": "9997",
                                    "warehouseCode": "a",
                                    "buyPrice": "66.27",
                                    "MSRP": "150.62"
                                },
                                {
                                    "productCode": "S12_3148",
                                    "productName": "1969 Corvair Monza",
                                    "productLine": "Classic Cars",
                                    "productScale": "1:18",
                                    "productVendor": "Welly Diecast Productions",
                                    "productDescription": "1:18 scale die-cast about 10\" long doors open, hood opens, trunk opens and wheels roll",
                                    "quantityInStock": "6906",
                                    "warehouseCode": "b",
                                    "buyPrice": "89.14",
                                    "MSRP": "151.08"
                                },
                                {
                                    "productCode": "S12_3380",
                                    "productName": "1968 Dodge Charger",
                                    "productLine": "Classic Cars",
                                    "productScale": "1:12",
                                    "productVendor": "Welly Diecast Productions",
                                    "productDescription": "1:12 scale model of a 1968 Dodge Charger. Hood, doors and trunk all open to reveal highly detailed interior features. Steering wheel actually turns the front wheels. Color black",
                                    "quantityInStock": "9123",
                                    "warehouseCode": "b",
                                    "buyPrice": "75.16",
                                    "MSRP": "117.44"
                                },
                                {
                                    "productCode": "S12_3891",
                                    "productName": "1969 Ford Falcon",
                                    "productLine": "Classic Cars",
                                    "productScale": "1:12",
                                    "productVendor": "Second Gear Diecast",
                                    "productDescription": "Turnable front wheels; steering function; detailed interior; detailed engine; opening hood; opening trunk; opening doors; and detailed chassis.",
                                    "quantityInStock": "1049",
                                    "warehouseCode": "b",
                                    "buyPrice": "83.05",
                                    "MSRP": "173.02"
                                },
                                {
                                    "productCode": "S12_3990",
                                    "productName": "1970 Plymouth Hemi Cuda",
                                    "productLine": "Classic Cars",
                                    "productScale": "1:12",
                                    "productVendor": "Studio M Art Models",
                                    "productDescription": "Very detailed 1970 Plymouth Cuda model in 1:12 scale. The Cuda is generally accepted as one of the fastest original muscle cars from the 1970s. This model is a reproduction of one of the orginal 652 cars built in 1970. Red color.",
                                    "quantityInStock": "5663",
                                    "warehouseCode": "b",
                                    "buyPrice": "31.92",
                                    "MSRP": "79.80"
                                },
                                {
                                    "productCode": "S12_4473",
                                    "productName": "1957 Chevy Pickup",
                                    "productLine": "Trucks and Buses",
                                    "productScale": "1:12",
                                    "productVendor": "Exoto Designs",
                                    "productDescription": "1:12 scale die-cast about 20\" long Hood opens, Rubber wheels",
                                    "quantityInStock": "6125",
                                    "warehouseCode": "d",
                                    "buyPrice": "55.70",
                                    "MSRP": "118.50"
                                },
                                {
                                    "productCode": "S12_4675",
                                    "productName": "1969 Dodge Charger",
                                    "productLine": "Classic Cars",
                                    "productScale": "1:12",
                                    "productVendor": "Welly Diecast Productions",
                                    "productDescription": "Detailed model of the 1969 Dodge Charger. This model includes finely detailed interior and exterior features. Painted in red and white.",
                                    "quantityInStock": "7323",
                                    "warehouseCode": "b",
                                    "buyPrice": "58.73",
                                    "MSRP": "115.16"
                                },
                                {
                                    "productCode": "S18_1097",
                                    "productName": "1940 Ford Pickup Truck",
                                    "productLine": "Trucks and Buses",
                                    "productScale": "1:18",
                                    "productVendor": "Studio M Art Models",
                                    "productDescription": "This model features soft rubber tires, working steering, rubber mud guards, authentic Ford logos, detailed undercarriage, opening doors and hood,  removable split rear gate, full size spare mounted in bed, detailed interior with opening glove box",
                                    "quantityInStock": "2613",
                                    "warehouseCode": "d",
                                    "buyPrice": "58.33",
                                    "MSRP": "116.67"
                                },
                                {
                                    "productCode": "S18_1129",
                                    "productName": "1993 Mazda RX-7",
                                    "productLine": "Classic Cars",
                                    "productScale": "1:18",
                                    "productVendor": "Highway 66 Mini Classics",
                                    "productDescription": "This model features, opening hood, opening doors, detailed engine, rear spoiler, opening trunk, working steering, tinted windows, baked enamel finish. Color red.",
                                    "quantityInStock": "3975",
                                    "warehouseCode": "b",
                                    "buyPrice": "83.51",
                                    "MSRP": "141.54"
                                },
                                {
                                    "productCode": "S18_1342",
                                    "productName": "1937 Lincoln Berline",
                                    "productLine": "Vintage Cars",
                                    "productScale": "1:18",
                                    "productVendor": "Motor City Art Classics",
                                    "productDescription": "Features opening engine cover, doors, trunk, and fuel filler cap. Color black",
                                    "quantityInStock": "8693",
                                    "warehouseCode": "c",
                                    "buyPrice": "60.62",
                                    "MSRP": "102.74"
                                },
                                {
                                    "productCode": "S18_1367",
                                    "productName": "1936 Mercedes-Benz 500K Special Roadster",
                                    "productLine": "Vintage Cars",
                                    "productScale": "1:18",
                                    "productVendor": "Studio M Art Models",
                                    "productDescription": "This 1:18 scale replica is constructed of heavy die-cast metal and has all the features of the original: working doors and rumble seat, independent spring suspension, detailed interior, working steering system, and a bifold hood that reveals an engine so accurate that it even includes the wiring. All this is topped off with a baked enamel finish. Color white.",
                                    "quantityInStock": "8635",
                                    "warehouseCode": "c",
                                    "buyPrice": "24.26",
                                    "MSRP": "53.91"
                                },
                                {
                                    "productCode": "S18_1589",
                                    "productName": "1965 Aston Martin DB5",
                                    "productLine": "Classic Cars",
                                    "productScale": "1:18",
                                    "productVendor": "Classic Metal Creations",
                                    "productDescription": "Die-cast model of the silver 1965 Aston Martin DB5 in silver. This model includes full wire wheels and doors that open with fully detailed passenger compartment. In 1:18 scale, this model measures approximately 10 inches/20 cm long.",
                                    "quantityInStock": "9042",
                                    "warehouseCode": "b",
                                    "buyPrice": "65.96",
                                    "MSRP": "124.44"
                                },
                                {
                                    "productCode": "S18_1662",
                                    "productName": "1980s Black Hawk Helicopter",
                                    "productLine": "Planes",
                                    "productScale": "1:18",
                                    "productVendor": "Red Start Diecast",
                                    "productDescription": "1:18 scale replica of actual Army's UH-60L BLACK HAWK Helicopter. 100% hand-assembled. Features rotating rotor blades, propeller blades and rubber wheels.",
                                    "quantityInStock": "5330",
                                    "warehouseCode": "a",
                                    "buyPrice": "77.27",
                                    "MSRP": "157.69"
                                },
                                {
                                    "productCode": "S18_1749",
                                    "productName": "1917 Grand Touring Sedan",
                                    "productLine": "Vintage Cars",
                                    "productScale": "1:18",
                                    "productVendor": "Welly Diecast Productions",
                                    "productDescription": "This 1:18 scale replica of the 1917 Grand Touring car has all the features you would expect from museum quality reproductions: all four doors and bi-fold hood opening, detailed engine and instrument panel, chrome-look trim, and tufted upholstery, all topped off with a factory baked-enamel finish.",
                                    "quantityInStock": "2724",
                                    "warehouseCode": "c",
                                    "buyPrice": "86.70",
                                    "MSRP": "170.00"
                                },
                                {
                                    "productCode": "S18_1889",
                                    "productName": "1948 Porsche 356-A Roadster",
                                    "productLine": "Classic Cars",
                                    "productScale": "1:18",
                                    "productVendor": "Gearbox Collectibles",
                                    "productDescription": "This precision die-cast replica features opening doors, superb detail and craftsmanship, working steering system, opening forward compartment, opening rear trunk with removable spare, 4 wheel independent spring suspension as well as factory baked enamel finish.",
                                    "quantityInStock": "8826",
                                    "warehouseCode": "b",
                                    "buyPrice": "53.90",
                                    "MSRP": "77.00"
                                },
                                {
                                    "productCode": "S18_1984",
                                    "productName": "1995 Honda Civic",
                                    "productLine": "Classic Cars",
                                    "productScale": "1:18",
                                    "productVendor": "Min Lin Diecast",
                                    "productDescription": "This model features, opening hood, opening doors, detailed engine, rear spoiler, opening trunk, working steering, tinted windows, baked enamel finish. Color yellow.",
                                    "quantityInStock": "9772",
                                    "warehouseCode": "b",
                                    "buyPrice": "93.89",
                                    "MSRP": "142.25"
                                },
                                {
                                    "productCode": "S18_2238",
                                    "productName": "1998 Chrysler Plymouth Prowler",
                                    "productLine": "Classic Cars",
                                    "productScale": "1:18",
                                    "productVendor": "Gearbox Collectibles",
                                    "productDescription": "Turnable front wheels; steering function; detailed interior; detailed engine; opening hood; opening trunk; opening doors; and detailed chassis.",
                                    "quantityInStock": "4724",
                                    "warehouseCode": "b",
                                    "buyPrice": "101.51",
                                    "MSRP": "163.73"
                                },
                                {
                                    "productCode": "S18_2248",
                                    "productName": "1911 Ford Town Car",
                                    "productLine": "Vintage Cars",
                                    "productScale": "1:18",
                                    "productVendor": "Motor City Art Classics",
                                    "productDescription": "Features opening hood, opening doors, opening trunk, wide white wall tires, front door arm rests, working steering system.",
                                    "quantityInStock": "540",
                                    "warehouseCode": "c",
                                    "buyPrice": "33.30",
                                    "MSRP": "60.54"
                                },
                                {
                                    "productCode": "S18_2319",
                                    "productName": "1964 Mercedes Tour Bus",
                                    "productLine": "Trucks and Buses",
                                    "productScale": "1:18",
                                    "productVendor": "Unimax Art Galleries",
                                    "productDescription": "Exact replica. 100+ parts. working steering system, original logos",
                                    "quantityInStock": "8258",
                                    "warehouseCode": "d",
                                    "buyPrice": "74.86",
                                    "MSRP": "122.73"
                                },
                                {
                                    "productCode": "S18_2325",
                                    "productName": "1932 Model A Ford J-Coupe",
                                    "productLine": "Vintage Cars",
                                    "productScale": "1:18",
                                    "productVendor": "Autoart Studio Design",
                                    "productDescription": "This model features grille-mounted chrome horn, lift-up louvered hood, fold-down rumble seat, working steering system, chrome-covered spare, opening doors, detailed and wired engine",
                                    "quantityInStock": "9354",
                                    "warehouseCode": "c",
                                    "buyPrice": "58.48",
                                    "MSRP": "127.13"
                                },
                                {
                                    "productCode": "S18_2432",
                                    "productName": "1926 Ford Fire Engine",
                                    "productLine": "Trucks and Buses",
                                    "productScale": "1:18",
                                    "productVendor": "Carousel DieCast Legends",
                                    "productDescription": "Gleaming red handsome appearance. Everything is here the fire hoses, ladder, axes, bells, lanterns, ready to fight any inferno.",
                                    "quantityInStock": "2018",
                                    "warehouseCode": "d",
                                    "buyPrice": "24.92",
                                    "MSRP": "60.77"
                                },
                                {
                                    "productCode": "S18_2581",
                                    "productName": "P-51-D Mustang",
                                    "productLine": "Planes",
                                    "productScale": "1:72",
                                    "productVendor": "Gearbox Collectibles",
                                    "productDescription": "Has retractable wheels and comes with a stand",
                                    "quantityInStock": "992",
                                    "warehouseCode": "a",
                                    "buyPrice": "49.00",
                                    "MSRP": "84.48"
                                },
                                {
                                    "productCode": "S18_2625",
                                    "productName": "1936 Harley Davidson El Knucklehead",
                                    "productLine": "Motorcycles",
                                    "productScale": "1:18",
                                    "productVendor": "Welly Diecast Productions",
                                    "productDescription": "Intricately detailed with chrome accents and trim, official die-struck logos and baked enamel finish.",
                                    "quantityInStock": "4357",
                                    "warehouseCode": "a",
                                    "buyPrice": "24.23",
                                    "MSRP": "60.57"
                                },
                                {
                                    "productCode": "S18_2795",
                                    "productName": "1928 Mercedes-Benz SSK",
                                    "productLine": "Vintage Cars",
                                    "productScale": "1:18",
                                    "productVendor": "Gearbox Collectibles",
                                    "productDescription": "This 1:18 replica features grille-mounted chrome horn, lift-up louvered hood, fold-down rumble seat, working steering system, chrome-covered spare, opening doors, detailed and wired engine. Color black.",
                                    "quantityInStock": "548",
                                    "warehouseCode": "c",
                                    "buyPrice": "72.56",
                                    "MSRP": "168.75"
                                },
                                {
                                    "productCode": "S18_2870",
                                    "productName": "1999 Indy 500 Monte Carlo SS",
                                    "productLine": "Classic Cars",
                                    "productScale": "1:18",
                                    "productVendor": "Red Start Diecast",
                                    "productDescription": "Features include opening and closing doors. Color: Red",
                                    "quantityInStock": "8164",
                                    "warehouseCode": "b",
                                    "buyPrice": "56.76",
                                    "MSRP": "132.00"
                                },
                                {
                                    "productCode": "S18_2949",
                                    "productName": "1913 Ford Model T Speedster",
                                    "productLine": "Vintage Cars",
                                    "productScale": "1:18",
                                    "productVendor": "Carousel DieCast Legends",
                                    "productDescription": "This 250 part reproduction includes moving handbrakes, clutch, throttle and foot pedals, squeezable horn, detailed wired engine, removable water, gas, and oil cans, pivoting monocle windshield, all topped with a baked enamel red finish. Each replica comes with an Owners Title and Certificate of Authenticity. Color red.",
                                    "quantityInStock": "4189",
                                    "warehouseCode": "c",
                                    "buyPrice": "60.78",
                                    "MSRP": "101.31"
                                },
                                {
                                    "productCode": "S18_2957",
                                    "productName": "1934 Ford V8 Coupe",
                                    "productLine": "Vintage Cars",
                                    "productScale": "1:18",
                                    "productVendor": "Min Lin Diecast",
                                    "productDescription": "Chrome Trim, Chrome Grille, Opening Hood, Opening Doors, Opening Trunk, Detailed Engine, Working Steering System",
                                    "quantityInStock": "5649",
                                    "warehouseCode": "c",
                                    "buyPrice": "34.35",
                                    "MSRP": "62.46"
                                },
                                {
                                    "productCode": "S18_3029",
                                    "productName": "1999 Yamaha Speed Boat",
                                    "productLine": "Ships",
                                    "productScale": "1:18",
                                    "productVendor": "Min Lin Diecast",
                                    "productDescription": "Exact replica. Wood and Metal. Many extras including rigging, long boats, pilot house, anchors, etc. Comes with three masts, all square-rigged.",
                                    "quantityInStock": "4259",
                                    "warehouseCode": "d",
                                    "buyPrice": "51.61",
                                    "MSRP": "86.02"
                                },
                                {
                                    "productCode": "S18_3136",
                                    "productName": "18th Century Vintage Horse Carriage",
                                    "productLine": "Vintage Cars",
                                    "productScale": "1:18",
                                    "productVendor": "Red Start Diecast",
                                    "productDescription": "Hand crafted diecast-like metal horse carriage is re-created in about 1:18 scale of antique horse carriage. This antique style metal Stagecoach is all hand-assembled with many different parts.\r\n\r\nThis collectible metal horse carriage is painted in classic Red, and features turning steering wheel and is entirely hand-finished.",
                                    "quantityInStock": "5992",
                                    "warehouseCode": "c",
                                    "buyPrice": "60.74",
                                    "MSRP": "104.72"
                                },
                                {
                                    "productCode": "S18_3140",
                                    "productName": "1903 Ford Model A",
                                    "productLine": "Vintage Cars",
                                    "productScale": "1:18",
                                    "productVendor": "Unimax Art Galleries",
                                    "productDescription": "Features opening trunk,  working steering system",
                                    "quantityInStock": "3913",
                                    "warehouseCode": "c",
                                    "buyPrice": "68.30",
                                    "MSRP": "136.59"
                                },
                                {
                                    "productCode": "S18_3232",
                                    "productName": "1992 Ferrari 360 Spider red",
                                    "productLine": "Classic Cars",
                                    "productScale": "1:18",
                                    "productVendor": "Unimax Art Galleries",
                                    "productDescription": "his replica features opening doors, superb detail and craftsmanship, working steering system, opening forward compartment, opening rear trunk with removable spare, 4 wheel independent spring suspension as well as factory baked enamel finish.",
                                    "quantityInStock": "8347",
                                    "warehouseCode": "b",
                                    "buyPrice": "77.90",
                                    "MSRP": "169.34"
                                },
                                {
                                    "productCode": "S18_3233",
                                    "productName": "1985 Toyota Supra",
                                    "productLine": "Classic Cars",
                                    "productScale": "1:18",
                                    "productVendor": "Highway 66 Mini Classics",
                                    "productDescription": "This model features soft rubber tires, working steering, rubber mud guards, authentic Ford logos, detailed undercarriage, opening doors and hood, removable split rear gate, full size spare mounted in bed, detailed interior with opening glove box",
                                    "quantityInStock": "7733",
                                    "warehouseCode": "b",
                                    "buyPrice": "57.01",
                                    "MSRP": "107.57"
                                },
                                {
                                    "productCode": "S18_3259",
                                    "productName": "Collectable Wooden Train",
                                    "productLine": "Trains",
                                    "productScale": "1:18",
                                    "productVendor": "Carousel DieCast Legends",
                                    "productDescription": "Hand crafted wooden toy train set is in about 1:18 scale, 25 inches in total length including 2 additional carts, of actual vintage train. This antique style wooden toy train model set is all hand-assembled with 100% wood.",
                                    "quantityInStock": "6450",
                                    "warehouseCode": "d",
                                    "buyPrice": "67.56",
                                    "MSRP": "100.84"
                                },
                                {
                                    "productCode": "S18_3278",
                                    "productName": "1969 Dodge Super Bee",
                                    "productLine": "Classic Cars",
                                    "productScale": "1:18",
                                    "productVendor": "Min Lin Diecast",
                                    "productDescription": "This replica features opening doors, superb detail and craftsmanship, working steering system, opening forward compartment, opening rear trunk with removable spare, 4 wheel independent spring suspension as well as factory baked enamel finish.",
                                    "quantityInStock": "1917",
                                    "warehouseCode": "b",
                                    "buyPrice": "49.05",
                                    "MSRP": "80.41"
                                },
                                {
                                    "productCode": "S18_3320",
                                    "productName": "1917 Maxwell Touring Car",
                                    "productLine": "Vintage Cars",
                                    "productScale": "1:18",
                                    "productVendor": "Exoto Designs",
                                    "productDescription": "Features Gold Trim, Full Size Spare Tire, Chrome Trim, Chrome Grille, Opening Hood, Opening Doors, Opening Trunk, Detailed Engine, Working Steering System",
                                    "quantityInStock": "7913",
                                    "warehouseCode": "c",
                                    "buyPrice": "57.54",
                                    "MSRP": "99.21"
                                },
                                {
                                    "productCode": "S18_3482",
                                    "productName": "1976 Ford Gran Torino",
                                    "productLine": "Classic Cars",
                                    "productScale": "1:18",
                                    "productVendor": "Gearbox Collectibles",
                                    "productDescription": "Highly detailed 1976 Ford Gran Torino \"Starsky and Hutch\" diecast model. Very well constructed and painted in red and white patterns.",
                                    "quantityInStock": "9127",
                                    "warehouseCode": "b",
                                    "buyPrice": "73.49",
                                    "MSRP": "146.99"
                                },
                                {
                                    "productCode": "S18_3685",
                                    "productName": "1948 Porsche Type 356 Roadster",
                                    "productLine": "Classic Cars",
                                    "productScale": "1:18",
                                    "productVendor": "Gearbox Collectibles",
                                    "productDescription": "This model features working front and rear suspension on accurately replicated and actuating shock absorbers as well as opening engine cover, rear stabilizer flap,  and 4 opening doors.",
                                    "quantityInStock": "8990",
                                    "warehouseCode": "b",
                                    "buyPrice": "62.16",
                                    "MSRP": "141.28"
                                },
                                {
                                    "productCode": "S18_3782",
                                    "productName": "1957 Vespa GS150",
                                    "productLine": "Motorcycles",
                                    "productScale": "1:18",
                                    "productVendor": "Studio M Art Models",
                                    "productDescription": "Features rotating wheels , working kick stand. Comes with stand.",
                                    "quantityInStock": "7689",
                                    "warehouseCode": "a",
                                    "buyPrice": "32.95",
                                    "MSRP": "62.17"
                                },
                                {
                                    "productCode": "S18_3856",
                                    "productName": "1941 Chevrolet Special Deluxe Cabriolet",
                                    "productLine": "Vintage Cars",
                                    "productScale": "1:18",
                                    "productVendor": "Exoto Designs",
                                    "productDescription": "Features opening hood, opening doors, opening trunk, wide white wall tires, front door arm rests, working steering system, leather upholstery. Color black.",
                                    "quantityInStock": "2378",
                                    "warehouseCode": "c",
                                    "buyPrice": "64.58",
                                    "MSRP": "105.87"
                                },
                                {
                                    "productCode": "S18_4027",
                                    "productName": "1970 Triumph Spitfire",
                                    "productLine": "Classic Cars",
                                    "productScale": "1:18",
                                    "productVendor": "Min Lin Diecast",
                                    "productDescription": "Features include opening and closing doors. Color: White.",
                                    "quantityInStock": "5545",
                                    "warehouseCode": "b",
                                    "buyPrice": "91.92",
                                    "MSRP": "143.62"
                                },
                                {
                                    "productCode": "S18_4409",
                                    "productName": "1932 Alfa Romeo 8C2300 Spider Sport",
                                    "productLine": "Vintage Cars",
                                    "productScale": "1:18",
                                    "productVendor": "Exoto Designs",
                                    "productDescription": "This 1:18 scale precision die cast replica features the 6 front headlights of the original, plus a detailed version of the 142 horsepower straight 8 engine, dual spares and their famous comprehensive dashboard. Color black.",
                                    "quantityInStock": "6553",
                                    "warehouseCode": "c",
                                    "buyPrice": "43.26",
                                    "MSRP": "92.03"
                                },
                                {
                                    "productCode": "S18_4522",
                                    "productName": "1904 Buick Runabout",
                                    "productLine": "Vintage Cars",
                                    "productScale": "1:18",
                                    "productVendor": "Exoto Designs",
                                    "productDescription": "Features opening trunk,  working steering system",
                                    "quantityInStock": "8290",
                                    "warehouseCode": "c",
                                    "buyPrice": "52.66",
                                    "MSRP": "87.77"
                                },
                                {
                                    "productCode": "S18_4600",
                                    "productName": "1940s Ford truck",
                                    "productLine": "Trucks and Buses",
                                    "productScale": "1:18",
                                    "productVendor": "Motor City Art Classics",
                                    "productDescription": "This 1940s Ford Pick-Up truck is re-created in 1:18 scale of original 1940s Ford truck. This antique style metal 1940s Ford Flatbed truck is all hand-assembled. This collectible 1940's Pick-Up truck is painted in classic dark green color, and features rotating wheels.",
                                    "quantityInStock": "3128",
                                    "warehouseCode": "d",
                                    "buyPrice": "84.76",
                                    "MSRP": "121.08"
                                },
                                {
                                    "productCode": "S18_4668",
                                    "productName": "1939 Cadillac Limousine",
                                    "productLine": "Vintage Cars",
                                    "productScale": "1:18",
                                    "productVendor": "Studio M Art Models",
                                    "productDescription": "Features completely detailed interior including Velvet flocked drapes,deluxe wood grain floor, and a wood grain casket with seperate chrome handles",
                                    "quantityInStock": "6645",
                                    "warehouseCode": "c",
                                    "buyPrice": "23.14",
                                    "MSRP": "50.31"
                                },
                                {
                                    "productCode": "S18_4721",
                                    "productName": "1957 Corvette Convertible",
                                    "productLine": "Classic Cars",
                                    "productScale": "1:18",
                                    "productVendor": "Classic Metal Creations",
                                    "productDescription": "1957 die cast Corvette Convertible in Roman Red with white sides and whitewall tires. 1:18 scale quality die-cast with detailed engine and underbvody. Now you can own The Classic Corvette.",
                                    "quantityInStock": "1249",
                                    "warehouseCode": "b",
                                    "buyPrice": "69.93",
                                    "MSRP": "148.80"
                                },
                                {
                                    "productCode": "S18_4933",
                                    "productName": "1957 Ford Thunderbird",
                                    "productLine": "Classic Cars",
                                    "productScale": "1:18",
                                    "productVendor": "Studio M Art Models",
                                    "productDescription": "This 1:18 scale precision die-cast replica, with its optional porthole hardtop and factory baked-enamel Thunderbird Bronze finish, is a 100% accurate rendition of this American classic.",
                                    "quantityInStock": "3209",
                                    "warehouseCode": "b",
                                    "buyPrice": "34.21",
                                    "MSRP": "71.27"
                                },
                                {
                                    "productCode": "S24_1046",
                                    "productName": "1970 Chevy Chevelle SS 454",
                                    "productLine": "Classic Cars",
                                    "productScale": "1:24",
                                    "productVendor": "Unimax Art Galleries",
                                    "productDescription": "This model features rotating wheels, working streering system and opening doors. All parts are particularly delicate due to their precise scale and require special care and attention. It should not be picked up by the doors, roof, hood or trunk.",
                                    "quantityInStock": "1005",
                                    "warehouseCode": "b",
                                    "buyPrice": "49.24",
                                    "MSRP": "73.49"
                                },
                                {
                                    "productCode": "S24_1444",
                                    "productName": "1970 Dodge Coronet",
                                    "productLine": "Classic Cars",
                                    "productScale": "1:24",
                                    "productVendor": "Highway 66 Mini Classics",
                                    "productDescription": "1:24 scale die-cast about 18\" long doors open, hood opens and rubber wheels",
                                    "quantityInStock": "4074",
                                    "warehouseCode": "b",
                                    "buyPrice": "32.37",
                                    "MSRP": "57.80"
                                },
                                {
                                    "productCode": "S24_1578",
                                    "productName": "1997 BMW R 1100 S",
                                    "productLine": "Motorcycles",
                                    "productScale": "1:24",
                                    "productVendor": "Autoart Studio Design",
                                    "productDescription": "Detailed scale replica with working suspension and constructed from over 70 parts",
                                    "quantityInStock": "7003",
                                    "warehouseCode": "a",
                                    "buyPrice": "60.86",
                                    "MSRP": "112.70"
                                },
                                {
                                    "productCode": "S24_1628",
                                    "productName": "1966 Shelby Cobra 427 S/C",
                                    "productLine": "Classic Cars",
                                    "productScale": "1:24",
                                    "productVendor": "Carousel DieCast Legends",
                                    "productDescription": "This diecast model of the 1966 Shelby Cobra 427 S/C includes many authentic details and operating parts. The 1:24 scale model of this iconic lighweight sports car from the 1960s comes in silver and it's own display case.",
                                    "quantityInStock": "8197",
                                    "warehouseCode": "b",
                                    "buyPrice": "29.18",
                                    "MSRP": "50.31"
                                },
                                {
                                    "productCode": "S24_1785",
                                    "productName": "1928 British Royal Navy Airplane",
                                    "productLine": "Planes",
                                    "productScale": "1:24",
                                    "productVendor": "Classic Metal Creations",
                                    "productDescription": "Official logos and insignias",
                                    "quantityInStock": "3627",
                                    "warehouseCode": "a",
                                    "buyPrice": "66.74",
                                    "MSRP": "109.42"
                                },
                                {
                                    "productCode": "S24_1937",
                                    "productName": "1939 Chevrolet Deluxe Coupe",
                                    "productLine": "Vintage Cars",
                                    "productScale": "1:24",
                                    "productVendor": "Motor City Art Classics",
                                    "productDescription": "This 1:24 scale die-cast replica of the 1939 Chevrolet Deluxe Coupe has the same classy look as the original. Features opening trunk, hood and doors and a showroom quality baked enamel finish.",
                                    "quantityInStock": "7332",
                                    "warehouseCode": "c",
                                    "buyPrice": "22.57",
                                    "MSRP": "33.19"
                                },
                                {
                                    "productCode": "S24_2000",
                                    "productName": "1960 BSA Gold Star DBD34",
                                    "productLine": "Motorcycles",
                                    "productScale": "1:24",
                                    "productVendor": "Highway 66 Mini Classics",
                                    "productDescription": "Detailed scale replica with working suspension and constructed from over 70 parts",
                                    "quantityInStock": "15",
                                    "warehouseCode": "a",
                                    "buyPrice": "37.32",
                                    "MSRP": "76.17"
                                },
                                {
                                    "productCode": "S24_2011",
                                    "productName": "18th century schooner",
                                    "productLine": "Ships",
                                    "productScale": "1:24",
                                    "productVendor": "Carousel DieCast Legends",
                                    "productDescription": "All wood with canvas sails. Many extras including rigging, long boats, pilot house, anchors, etc. Comes with 4 masts, all square-rigged.",
                                    "quantityInStock": "1898",
                                    "warehouseCode": "d",
                                    "buyPrice": "82.34",
                                    "MSRP": "122.89"
                                },
                                {
                                    "productCode": "S24_2022",
                                    "productName": "1938 Cadillac V-16 Presidential Limousine",
                                    "productLine": "Vintage Cars",
                                    "productScale": "1:24",
                                    "productVendor": "Classic Metal Creations",
                                    "productDescription": "This 1:24 scale precision die cast replica of the 1938 Cadillac V-16 Presidential Limousine has all the details of the original, from the flags on the front to an opening back seat compartment complete with telephone and rifle. Features factory baked-enamel black finish, hood goddess ornament, working jump seats.",
                                    "quantityInStock": "2847",
                                    "warehouseCode": "c",
                                    "buyPrice": "20.61",
                                    "MSRP": "44.80"
                                },
                                {
                                    "productCode": "S24_2300",
                                    "productName": "1962 Volkswagen Microbus",
                                    "productLine": "Trucks and Buses",
                                    "productScale": "1:24",
                                    "productVendor": "Autoart Studio Design",
                                    "productDescription": "This 1:18 scale die cast replica of the 1962 Microbus is loaded with features: A working steering system, opening front doors and tailgate, and famous two-tone factory baked enamel finish, are all topped of by the sliding, real fabric, sunroof.",
                                    "quantityInStock": "2327",
                                    "warehouseCode": "d",
                                    "buyPrice": "61.34",
                                    "MSRP": "127.79"
                                },
                                {
                                    "productCode": "S24_2360",
                                    "productName": "1982 Ducati 900 Monster",
                                    "productLine": "Motorcycles",
                                    "productScale": "1:24",
                                    "productVendor": "Highway 66 Mini Classics",
                                    "productDescription": "Features two-tone paint with chrome accents, superior die-cast detail , rotating wheels , working kick stand",
                                    "quantityInStock": "6840",
                                    "warehouseCode": "a",
                                    "buyPrice": "47.10",
                                    "MSRP": "69.26"
                                },
                                {
                                    "productCode": "S24_2766",
                                    "productName": "1949 Jaguar XK 120",
                                    "productLine": "Classic Cars",
                                    "productScale": "1:24",
                                    "productVendor": "Classic Metal Creations",
                                    "productDescription": "Precision-engineered from original Jaguar specification in perfect scale ratio. Features opening doors, superb detail and craftsmanship, working steering system, opening forward compartment, opening rear trunk with removable spare, 4 wheel independent spring suspension as well as factory baked enamel finish.",
                                    "quantityInStock": "2350",
                                    "warehouseCode": "b",
                                    "buyPrice": "47.25",
                                    "MSRP": "90.87"
                                },
                                {
                                    "productCode": "S24_2840",
                                    "productName": "1958 Chevy Corvette Limited Edition",
                                    "productLine": "Classic Cars",
                                    "productScale": "1:24",
                                    "productVendor": "Carousel DieCast Legends",
                                    "productDescription": "The operating parts of this 1958 Chevy Corvette Limited Edition are particularly delicate due to their precise scale and require special care and attention. Features rotating wheels, working streering, opening doors and trunk. Color dark green.",
                                    "quantityInStock": "2542",
                                    "warehouseCode": "b",
                                    "buyPrice": "15.91",
                                    "MSRP": "35.36"
                                },
                                {
                                    "productCode": "S24_2841",
                                    "productName": "1900s Vintage Bi-Plane",
                                    "productLine": "Planes",
                                    "productScale": "1:24",
                                    "productVendor": "Autoart Studio Design",
                                    "productDescription": "Hand crafted diecast-like metal bi-plane is re-created in about 1:24 scale of antique pioneer airplane. All hand-assembled with many different parts. Hand-painted in classic yellow and features correct markings of original airplane.",
                                    "quantityInStock": "5942",
                                    "warehouseCode": "a",
                                    "buyPrice": "34.25",
                                    "MSRP": "68.51"
                                },
                                {
                                    "productCode": "S24_2887",
                                    "productName": "1952 Citroen-15CV",
                                    "productLine": "Classic Cars",
                                    "productScale": "1:24",
                                    "productVendor": "Exoto Designs",
                                    "productDescription": "Precision crafted hand-assembled 1:18 scale reproduction of the 1952 15CV, with its independent spring suspension, working steering system, opening doors and hood, detailed engine and instrument panel, all topped of with a factory fresh baked enamel finish.",
                                    "quantityInStock": "1452",
                                    "warehouseCode": "b",
                                    "buyPrice": "72.82",
                                    "MSRP": "117.44"
                                },
                                {
                                    "productCode": "S24_2972",
                                    "productName": "1982 Lamborghini Diablo",
                                    "productLine": "Classic Cars",
                                    "productScale": "1:24",
                                    "productVendor": "Second Gear Diecast",
                                    "productDescription": "This replica features opening doors, superb detail and craftsmanship, working steering system, opening forward compartment, opening rear trunk with removable spare, 4 wheel independent spring suspension as well as factory baked enamel finish.",
                                    "quantityInStock": "7723",
                                    "warehouseCode": "b",
                                    "buyPrice": "16.24",
                                    "MSRP": "37.76"
                                },
                                {
                                    "productCode": "S24_3151",
                                    "productName": "1912 Ford Model T Delivery Wagon",
                                    "productLine": "Vintage Cars",
                                    "productScale": "1:24",
                                    "productVendor": "Min Lin Diecast",
                                    "productDescription": "This model features chrome trim and grille, opening hood, opening doors, opening trunk, detailed engine, working steering system. Color white.",
                                    "quantityInStock": "9173",
                                    "warehouseCode": "c",
                                    "buyPrice": "46.91",
                                    "MSRP": "88.51"
                                },
                                {
                                    "productCode": "S24_3191",
                                    "productName": "1969 Chevrolet Camaro Z28",
                                    "productLine": "Classic Cars",
                                    "productScale": "1:24",
                                    "productVendor": "Exoto Designs",
                                    "productDescription": "1969 Z/28 Chevy Camaro 1:24 scale replica. The operating parts of this limited edition 1:24 scale diecast model car 1969 Chevy Camaro Z28- hood, trunk, wheels, streering, suspension and doors- are particularly delicate due to their precise scale and require special care and attention.",
                                    "quantityInStock": "4695",
                                    "warehouseCode": "b",
                                    "buyPrice": "50.51",
                                    "MSRP": "85.61"
                                },
                                {
                                    "productCode": "S24_3371",
                                    "productName": "1971 Alpine Renault 1600s",
                                    "productLine": "Classic Cars",
                                    "productScale": "1:24",
                                    "productVendor": "Welly Diecast Productions",
                                    "productDescription": "This 1971 Alpine Renault 1600s replica Features opening doors, superb detail and craftsmanship, working steering system, opening forward compartment, opening rear trunk with removable spare, 4 wheel independent spring suspension as well as factory baked enamel finish.",
                                    "quantityInStock": "7995",
                                    "warehouseCode": "b",
                                    "buyPrice": "38.58",
                                    "MSRP": "61.23"
                                },
                                {
                                    "productCode": "S24_3420",
                                    "productName": "1937 Horch 930V Limousine",
                                    "productLine": "Vintage Cars",
                                    "productScale": "1:24",
                                    "productVendor": "Autoart Studio Design",
                                    "productDescription": "Features opening hood, opening doors, opening trunk, wide white wall tires, front door arm rests, working steering system",
                                    "quantityInStock": "2902",
                                    "warehouseCode": "c",
                                    "buyPrice": "26.30",
                                    "MSRP": "65.75"
                                },
                                {
                                    "productCode": "S24_3432",
                                    "productName": "2002 Chevy Corvette",
                                    "productLine": "Classic Cars",
                                    "productScale": "1:24",
                                    "productVendor": "Gearbox Collectibles",
                                    "productDescription": "The operating parts of this limited edition Diecast 2002 Chevy Corvette 50th Anniversary Pace car Limited Edition are particularly delicate due to their precise scale and require special care and attention. Features rotating wheels, poseable streering, opening doors and trunk.",
                                    "quantityInStock": "9446",
                                    "warehouseCode": "b",
                                    "buyPrice": "62.11",
                                    "MSRP": "107.08"
                                },
                                {
                                    "productCode": "S24_3816",
                                    "productName": "1940 Ford Delivery Sedan",
                                    "productLine": "Vintage Cars",
                                    "productScale": "1:24",
                                    "productVendor": "Carousel DieCast Legends",
                                    "productDescription": "Chrome Trim, Chrome Grille, Opening Hood, Opening Doors, Opening Trunk, Detailed Engine, Working Steering System. Color black.",
                                    "quantityInStock": "6621",
                                    "warehouseCode": "c",
                                    "buyPrice": "48.64",
                                    "MSRP": "83.86"
                                },
                                {
                                    "productCode": "S24_3856",
                                    "productName": "1956 Porsche 356A Coupe",
                                    "productLine": "Classic Cars",
                                    "productScale": "1:18",
                                    "productVendor": "Classic Metal Creations",
                                    "productDescription": "Features include: Turnable front wheels; steering function; detailed interior; detailed engine; opening hood; opening trunk; opening doors; and detailed chassis.",
                                    "quantityInStock": "6600",
                                    "warehouseCode": "b",
                                    "buyPrice": "98.30",
                                    "MSRP": "140.43"
                                },
                                {
                                    "productCode": "S24_3949",
                                    "productName": "Corsair F4U ( Bird Cage)",
                                    "productLine": "Planes",
                                    "productScale": "1:24",
                                    "productVendor": "Second Gear Diecast",
                                    "productDescription": "Has retractable wheels and comes with a stand. Official logos and insignias.",
                                    "quantityInStock": "6812",
                                    "warehouseCode": "a",
                                    "buyPrice": "29.34",
                                    "MSRP": "68.24"
                                },
                                {
                                    "productCode": "S24_3969",
                                    "productName": "1936 Mercedes Benz 500k Roadster",
                                    "productLine": "Vintage Cars",
                                    "productScale": "1:24",
                                    "productVendor": "Red Start Diecast",
                                    "productDescription": "This model features grille-mounted chrome horn, lift-up louvered hood, fold-down rumble seat, working steering system and rubber wheels. Color black.",
                                    "quantityInStock": "2081",
                                    "warehouseCode": "c",
                                    "buyPrice": "21.75",
                                    "MSRP": "41.03"
                                },
                                {
                                    "productCode": "S24_4048",
                                    "productName": "1992 Porsche Cayenne Turbo Silver",
                                    "productLine": "Classic Cars",
                                    "productScale": "1:24",
                                    "productVendor": "Exoto Designs",
                                    "productDescription": "This replica features opening doors, superb detail and craftsmanship, working steering system, opening forward compartment, opening rear trunk with removable spare, 4 wheel independent spring suspension as well as factory baked enamel finish.",
                                    "quantityInStock": "6582",
                                    "warehouseCode": "b",
                                    "buyPrice": "69.78",
                                    "MSRP": "118.28"
                                },
                                {
                                    "productCode": "S24_4258",
                                    "productName": "1936 Chrysler Airflow",
                                    "productLine": "Vintage Cars",
                                    "productScale": "1:24",
                                    "productVendor": "Second Gear Diecast",
                                    "productDescription": "Features opening trunk,  working steering system. Color dark green.",
                                    "quantityInStock": "4710",
                                    "warehouseCode": "c",
                                    "buyPrice": "57.46",
                                    "MSRP": "97.39"
                                },
                                {
                                    "productCode": "S24_4278",
                                    "productName": "1900s Vintage Tri-Plane",
                                    "productLine": "Planes",
                                    "productScale": "1:24",
                                    "productVendor": "Unimax Art Galleries",
                                    "productDescription": "Hand crafted diecast-like metal Triplane is Re-created in about 1:24 scale of antique pioneer airplane. This antique style metal triplane is all hand-assembled with many different parts.",
                                    "quantityInStock": "2756",
                                    "warehouseCode": "a",
                                    "buyPrice": "36.23",
                                    "MSRP": "72.45"
                                },
                                {
                                    "productCode": "S24_4620",
                                    "productName": "1961 Chevrolet Impala",
                                    "productLine": "Classic Cars",
                                    "productScale": "1:18",
                                    "productVendor": "Classic Metal Creations",
                                    "productDescription": "This 1:18 scale precision die-cast reproduction of the 1961 Chevrolet Impala has all the features-doors, hood and trunk that open; detailed 409 cubic-inch engine; chrome dashboard and stick shift, two-tone interior; working steering system; all topped of with a factory baked-enamel finish.",
                                    "quantityInStock": "7869",
                                    "warehouseCode": "b",
                                    "buyPrice": "32.33",
                                    "MSRP": "80.84"
                                },
                                {
                                    "productCode": "S32_1268",
                                    "productName": "1980’s GM Manhattan Express",
                                    "productLine": "Trucks and Buses",
                                    "productScale": "1:32",
                                    "productVendor": "Motor City Art Classics",
                                    "productDescription": "This 1980’s era new look Manhattan express is still active, running from the Bronx to mid-town Manhattan. Has 35 opeining windows and working lights. Needs a battery.",
                                    "quantityInStock": "5099",
                                    "warehouseCode": "d",
                                    "buyPrice": "53.93",
                                    "MSRP": "96.31"
                                },
                                {
                                    "productCode": "S32_1374",
                                    "productName": "1997 BMW F650 ST",
                                    "productLine": "Motorcycles",
                                    "productScale": "1:32",
                                    "productVendor": "Exoto Designs",
                                    "productDescription": "Features official die-struck logos and baked enamel finish. Comes with stand.",
                                    "quantityInStock": "178",
                                    "warehouseCode": "a",
                                    "buyPrice": "66.92",
                                    "MSRP": "99.89"
                                },
                                {
                                    "productCode": "S32_2206",
                                    "productName": "1982 Ducati 996 R",
                                    "productLine": "Motorcycles",
                                    "productScale": "1:32",
                                    "productVendor": "Gearbox Collectibles",
                                    "productDescription": "Features rotating wheels , working kick stand. Comes with stand.",
                                    "quantityInStock": "9241",
                                    "warehouseCode": "a",
                                    "buyPrice": "24.14",
                                    "MSRP": "40.23"
                                },
                                {
                                    "productCode": "S32_2509",
                                    "productName": "1954 Greyhound Scenicruiser",
                                    "productLine": "Trucks and Buses",
                                    "productScale": "1:32",
                                    "productVendor": "Classic Metal Creations",
                                    "productDescription": "Model features bi-level seating, 50 windows, skylights & glare resistant glass, working steering system, original logos",
                                    "quantityInStock": "2874",
                                    "warehouseCode": "d",
                                    "buyPrice": "25.98",
                                    "MSRP": "54.11"
                                },
                                {
                                    "productCode": "S32_3207",
                                    "productName": "1950's Chicago Surface Lines Streetcar",
                                    "productLine": "Trains",
                                    "productScale": "1:32",
                                    "productVendor": "Gearbox Collectibles",
                                    "productDescription": "This streetcar is a joy to see. It has 80 separate windows, electric wire guides, detailed interiors with seats, poles and drivers controls, rolling and turning wheel assemblies, plus authentic factory baked-enamel finishes (Green Hornet for Chicago and Cream and Crimson for Boston).",
                                    "quantityInStock": "8601",
                                    "warehouseCode": "d",
                                    "buyPrice": "26.72",
                                    "MSRP": "62.14"
                                },
                                {
                                    "productCode": "S32_3522",
                                    "productName": "1996 Peterbilt 379 Stake Bed with Outrigger",
                                    "productLine": "Trucks and Buses",
                                    "productScale": "1:32",
                                    "productVendor": "Red Start Diecast",
                                    "productDescription": "This model features, opening doors, detailed engine, working steering, tinted windows, detailed interior, die-struck logos, removable stakes operating outriggers, detachable second trailer, functioning 360-degree self loader, precision molded resin trailer and trim, baked enamel finish on cab",
                                    "quantityInStock": "814",
                                    "warehouseCode": "d",
                                    "buyPrice": "33.61",
                                    "MSRP": "64.64"
                                },
                                {
                                    "productCode": "S32_4289",
                                    "productName": "1928 Ford Phaeton Deluxe",
                                    "productLine": "Vintage Cars",
                                    "productScale": "1:32",
                                    "productVendor": "Highway 66 Mini Classics",
                                    "productDescription": "This model features grille-mounted chrome horn, lift-up louvered hood, fold-down rumble seat, working steering system",
                                    "quantityInStock": "136",
                                    "warehouseCode": "c",
                                    "buyPrice": "33.02",
                                    "MSRP": "68.79"
                                },
                                {
                                    "productCode": "S32_4485",
                                    "productName": "1974 Ducati 350 Mk3 Desmo",
                                    "productLine": "Motorcycles",
                                    "productScale": "1:32",
                                    "productVendor": "Second Gear Diecast",
                                    "productDescription": "This model features two-tone paint with chrome accents, superior die-cast detail , rotating wheels , working kick stand",
                                    "quantityInStock": "3341",
                                    "warehouseCode": "a",
                                    "buyPrice": "56.13",
                                    "MSRP": "102.05"
                                },
                                {
                                    "productCode": "S50_1341",
                                    "productName": "1930 Buick Marquette Phaeton",
                                    "productLine": "Vintage Cars",
                                    "productScale": "1:50",
                                    "productVendor": "Studio M Art Models",
                                    "productDescription": "Features opening trunk,  working steering system",
                                    "quantityInStock": "7062",
                                    "warehouseCode": "c",
                                    "buyPrice": "27.06",
                                    "MSRP": "43.64"
                                },
                                {
                                    "productCode": "S50_1392",
                                    "productName": "Diamond T620 Semi-Skirted Tanker",
                                    "productLine": "Trucks and Buses",
                                    "productScale": "1:50",
                                    "productVendor": "Highway 66 Mini Classics",
                                    "productDescription": "This limited edition model is licensed and perfectly scaled for Lionel Trains. The Diamond T620 has been produced in solid precision diecast and painted with a fire baked enamel finish. It comes with a removable tanker and is a perfect model to add authenticity to your static train or car layout or to just have on display.",
                                    "quantityInStock": "1016",
                                    "warehouseCode": "d",
                                    "buyPrice": "68.29",
                                    "MSRP": "115.75"
                                },
                                {
                                    "productCode": "S50_1514",
                                    "productName": "1962 City of Detroit Streetcar",
                                    "productLine": "Trains",
                                    "productScale": "1:50",
                                    "productVendor": "Classic Metal Creations",
                                    "productDescription": "This streetcar is a joy to see. It has 99 separate windows, electric wire guides, detailed interiors with seats, poles and drivers controls, rolling and turning wheel assemblies, plus authentic factory baked-enamel finishes (Green Hornet for Chicago and Cream and Crimson for Boston).",
                                    "quantityInStock": "1645",
                                    "warehouseCode": "d",
                                    "buyPrice": "37.49",
                                    "MSRP": "58.58"
                                },
                                {
                                    "productCode": "S50_4713",
                                    "productName": "2002 Yamaha YZR M1",
                                    "productLine": "Motorcycles",
                                    "productScale": "1:50",
                                    "productVendor": "Autoart Studio Design",
                                    "productDescription": "Features rotating wheels , working kick stand. Comes with stand.",
                                    "quantityInStock": "600",
                                    "warehouseCode": "a",
                                    "buyPrice": "34.17",
                                    "MSRP": "81.36"
                                },
                                {
                                    "productCode": "S700_1138",
                                    "productName": "The Schooner Bluenose",
                                    "productLine": "Ships",
                                    "productScale": "1:700",
                                    "productVendor": "Autoart Studio Design",
                                    "productDescription": "All wood with canvas sails. Measures 31 1/2 inches in Length, 22 inches High and 4 3/4 inches Wide. Many extras.\r\nThe schooner Bluenose was built in Nova Scotia in 1921 to fish the rough waters off the coast of Newfoundland. Because of the Bluenose racing prowess she became the pride of all Canadians. Still featured on stamps and the Canadian dime, the Bluenose was lost off Haiti in 1946.",
                                    "quantityInStock": "1897",
                                    "warehouseCode": "d",
                                    "buyPrice": "34.00",
                                    "MSRP": "66.67"
                                },
                                {
                                    "productCode": "S700_1691",
                                    "productName": "American Airlines: B767-300",
                                    "productLine": "Planes",
                                    "productScale": "1:700",
                                    "productVendor": "Min Lin Diecast",
                                    "productDescription": "Exact replia with official logos and insignias and retractable wheels",
                                    "quantityInStock": "5841",
                                    "warehouseCode": "a",
                                    "buyPrice": "51.15",
                                    "MSRP": "91.34"
                                },
                                {
                                    "productCode": "S700_1938",
                                    "productName": "The Mayflower",
                                    "productLine": "Ships",
                                    "productScale": "1:700",
                                    "productVendor": "Studio M Art Models",
                                    "productDescription": "Measures 31 1/2 inches Long x 25 1/2 inches High x 10 5/8 inches Wide\r\nAll wood with canvas sail. Extras include long boats, rigging, ladders, railing, anchors, side cannons, hand painted, etc.",
                                    "quantityInStock": "737",
                                    "warehouseCode": "d",
                                    "buyPrice": "43.30",
                                    "MSRP": "86.61"
                                },
                                {
                                    "productCode": "S700_2047",
                                    "productName": "HMS Bounty",
                                    "productLine": "Ships",
                                    "productScale": "1:700",
                                    "productVendor": "Unimax Art Galleries",
                                    "productDescription": "Measures 30 inches Long x 27 1/2 inches High x 4 3/4 inches Wide. \r\nMany extras including rigging, long boats, pilot house, anchors, etc. Comes with three masts, all square-rigged.",
                                    "quantityInStock": "3501",
                                    "warehouseCode": "d",
                                    "buyPrice": "39.83",
                                    "MSRP": "90.52"
                                },
                                {
                                    "productCode": "S700_2466",
                                    "productName": "America West Airlines B757-200",
                                    "productLine": "Planes",
                                    "productScale": "1:700",
                                    "productVendor": "Motor City Art Classics",
                                    "productDescription": "Official logos and insignias. Working steering system. Rotating jet engines",
                                    "quantityInStock": "9653",
                                    "warehouseCode": "a",
                                    "buyPrice": "68.80",
                                    "MSRP": "99.72"
                                },
                                {
                                    "productCode": "S700_2610",
                                    "productName": "The USS Constitution Ship",
                                    "productLine": "Ships",
                                    "productScale": "1:700",
                                    "productVendor": "Red Start Diecast",
                                    "productDescription": "All wood with canvas sails. Measures 31 1/2\" Length x 22 3/8\" High x 8 1/4\" Width. Extras include 4 boats on deck, sea sprite on bow, anchors, copper railing, pilot houses, etc.",
                                    "quantityInStock": "7083",
                                    "warehouseCode": "d",
                                    "buyPrice": "33.97",
                                    "MSRP": "72.28"
                                },
                                {
                                    "productCode": "S700_2824",
                                    "productName": "1982 Camaro Z28",
                                    "productLine": "Classic Cars",
                                    "productScale": "1:18",
                                    "productVendor": "Carousel DieCast Legends",
                                    "productDescription": "Features include opening and closing doors. Color: White. \r\nMeasures approximately 9 1/2\" Long.",
                                    "quantityInStock": "6934",
                                    "warehouseCode": "b",
                                    "buyPrice": "46.53",
                                    "MSRP": "101.15"
                                },
                                {
                                    "productCode": "S700_2834",
                                    "productName": "ATA: B757-300",
                                    "productLine": "Planes",
                                    "productScale": "1:700",
                                    "productVendor": "Highway 66 Mini Classics",
                                    "productDescription": "Exact replia with official logos and insignias and retractable wheels",
                                    "quantityInStock": "7106",
                                    "warehouseCode": "a",
                                    "buyPrice": "59.33",
                                    "MSRP": "118.65"
                                },
                                {
                                    "productCode": "S700_3167",
                                    "productName": "F/A 18 Hornet 1/72",
                                    "productLine": "Planes",
                                    "productScale": "1:72",
                                    "productVendor": "Motor City Art Classics",
                                    "productDescription": "10\" Wingspan with retractable landing gears.Comes with pilot",
                                    "quantityInStock": "551",
                                    "warehouseCode": "a",
                                    "buyPrice": "54.40",
                                    "MSRP": "80.00"
                                },
                                {
                                    "productCode": "S700_3505",
                                    "productName": "The Titanic",
                                    "productLine": "Ships",
                                    "productScale": "1:700",
                                    "productVendor": "Carousel DieCast Legends",
                                    "productDescription": "Completed model measures 19 1/2 inches long, 9 inches high, 3inches wide and is in barn red/black. All wood and metal.",
                                    "quantityInStock": "1956",
                                    "warehouseCode": "d",
                                    "buyPrice": "51.09",
                                    "MSRP": "100.17"
                                },
                                {
                                    "productCode": "S700_3962",
                                    "productName": "The Queen Mary",
                                    "productLine": "Ships",
                                    "productScale": "1:700",
                                    "productVendor": "Welly Diecast Productions",
                                    "productDescription": "Exact replica. Wood and Metal. Many extras including rigging, long boats, pilot house, anchors, etc. Comes with three masts, all square-rigged.",
                                    "quantityInStock": "5088",
                                    "warehouseCode": "d",
                                    "buyPrice": "53.63",
                                    "MSRP": "99.31"
                                },
                                {
                                    "productCode": "S700_4002",
                                    "productName": "American Airlines: MD-11S",
                                    "productLine": "Planes",
                                    "productScale": "1:700",
                                    "productVendor": "Second Gear Diecast",
                                    "productDescription": "Polished finish. Exact replia with official logos and insignias and retractable wheels",
                                    "quantityInStock": "8820",
                                    "warehouseCode": "a",
                                    "buyPrice": "36.27",
                                    "MSRP": "74.03"
                                },
                                {
                                    "productCode": "S72_1253",
                                    "productName": "Boeing X-32A JSF",
                                    "productLine": "Planes",
                                    "productScale": "1:72",
                                    "productVendor": "Motor City Art Classics",
                                    "productDescription": "10\" Wingspan with retractable landing gears.Comes with pilot",
                                    "quantityInStock": "4857",
                                    "warehouseCode": "a",
                                    "buyPrice": "32.77",
                                    "MSRP": "49.66"
                                },
                                {
                                    "productCode": "S72_3212",
                                    "productName": "Pont Yacht",
                                    "productLine": "Ships",
                                    "productScale": "1:72",
                                    "productVendor": "Unimax Art Galleries",
                                    "productDescription": "Measures 38 inches Long x 33 3/4 inches High. Includes a stand.\r\nMany extras including rigging, long boats, pilot house, anchors, etc. Comes with 2 masts, all square-rigged",
                                    "quantityInStock": "414",
                                    "warehouseCode": "d",
                                    "buyPrice": "33.30",
                                    "MSRP": "54.60"
                                }
                            ]
                        },
                        "text/html": [
                            "<table>",
                            "<tr><th>productCode</th><th>productName</th><th>productLine</th><th>productScale</th><th>productVendor</th><th>productDescription</th><th>quantityInStock</th><th>warehouseCode</th><th>buyPrice</th><th>MSRP</th></tr>",
                            "<tr><td>S10_1678</td><td>1969 Harley Davidson Ultimate Chopper</td><td>Motorcycles</td><td>1:10</td><td>Min Lin Diecast</td><td>This replica features working kickstand, front suspension, gear-shift lever, footbrake lever, drive chain, wheels and steering. All parts are particularly delicate due to their precise scale and require special care and attention.</td><td>7933</td><td>a</td><td>48.81</td><td>95.70</td></tr>",
                            "<tr><td>S10_1949</td><td>1952 Alpine Renault 1300</td><td>Classic Cars</td><td>1:10</td><td>Classic Metal Creations</td><td>Turnable front wheels; steering function; detailed interior; detailed engine; opening hood; opening trunk; opening doors; and detailed chassis.</td><td>7305</td><td>b</td><td>98.58</td><td>214.30</td></tr>",
                            "<tr><td>S10_2016</td><td>1996 Moto Guzzi 1100i</td><td>Motorcycles</td><td>1:10</td><td>Highway 66 Mini Classics</td><td>Official Moto Guzzi logos and insignias, saddle bags located on side of motorcycle, detailed engine, working steering, working suspension, two leather seats, luggage rack, dual exhaust pipes, small saddle bag located on handle bars, two-tone paint with chrome accents, superior die-cast detail , rotating wheels , working kick stand, diecast metal with plastic parts and baked enamel finish.</td><td>6625</td><td>a</td><td>68.99</td><td>118.94</td></tr>",
                            "<tr><td>S10_4698</td><td>2003 Harley-Davidson Eagle Drag Bike</td><td>Motorcycles</td><td>1:10</td><td>Red Start Diecast</td><td>Model features, official Harley Davidson logos and insignias, detachable rear wheelie bar, heavy diecast metal with resin parts, authentic multi-color tampo-printed graphics, separate engine drive belts, free-turning front fork, rotating tires and rear racing slick, certificate of authenticity, detailed engine, display stand\r\n, precision diecast replica, baked enamel finish, 1:10 scale model, removable fender, seat and tank cover piece for displaying the superior detail of the v-twin engine</td><td>5582</td><td>a</td><td>91.02</td><td>193.66</td></tr>",
                            "<tr><td>S10_4757</td><td>1972 Alfa Romeo GTA</td><td>Classic Cars</td><td>1:10</td><td>Motor City Art Classics</td><td>Features include: Turnable front wheels; steering function; detailed interior; detailed engine; opening hood; opening trunk; opening doors; and detailed chassis.</td><td>3252</td><td>b</td><td>85.68</td><td>136.00</td></tr>",
                            "<tr><td>S10_4962</td><td>1962 LanciaA Delta 16V</td><td>Classic Cars</td><td>1:10</td><td>Second Gear Diecast</td><td>Features include: Turnable front wheels; steering function; detailed interior; detailed engine; opening hood; opening trunk; opening doors; and detailed chassis.</td><td>6791</td><td>b</td><td>103.42</td><td>147.74</td></tr>",
                            "<tr><td>S12_1099</td><td>1968 Ford Mustang</td><td>Classic Cars</td><td>1:12</td><td>Autoart Studio Design</td><td>Hood, doors and trunk all open to reveal highly detailed interior features. Steering wheel actually turns the front wheels. Color dark green.</td><td>68</td><td>b</td><td>95.34</td><td>194.57</td></tr>",
                            "<tr><td>S12_1108</td><td>2001 Ferrari Enzo</td><td>Classic Cars</td><td>1:12</td><td>Second Gear Diecast</td><td>Turnable front wheels; steering function; detailed interior; detailed engine; opening hood; opening trunk; opening doors; and detailed chassis.</td><td>3619</td><td>b</td><td>95.59</td><td>207.80</td></tr>",
                            "<tr><td>S12_1666</td><td>1958 Setra Bus</td><td>Trucks and Buses</td><td>1:12</td><td>Welly Diecast Productions</td><td>Model features 30 windows, skylights &amp; glare resistant glass, working steering system, original logos</td><td>1579</td><td>d</td><td>77.90</td><td>136.67</td></tr>",
                            "<tr><td>S12_2823</td><td>2002 Suzuki XREO</td><td>Motorcycles</td><td>1:12</td><td>Unimax Art Galleries</td><td>Official logos and insignias, saddle bags located on side of motorcycle, detailed engine, working steering, working suspension, two leather seats, luggage rack, dual exhaust pipes, small saddle bag located on handle bars, two-tone paint with chrome accents, superior die-cast detail , rotating wheels , working kick stand, diecast metal with plastic parts and baked enamel finish.</td><td>9997</td><td>a</td><td>66.27</td><td>150.62</td></tr>",
                            "<tr><td>S12_3148</td><td>1969 Corvair Monza</td><td>Classic Cars</td><td>1:18</td><td>Welly Diecast Productions</td><td>1:18 scale die-cast about 10&quot; long doors open, hood opens, trunk opens and wheels roll</td><td>6906</td><td>b</td><td>89.14</td><td>151.08</td></tr>",
                            "<tr><td>S12_3380</td><td>1968 Dodge Charger</td><td>Classic Cars</td><td>1:12</td><td>Welly Diecast Productions</td><td>1:12 scale model of a 1968 Dodge Charger. Hood, doors and trunk all open to reveal highly detailed interior features. Steering wheel actually turns the front wheels. Color black</td><td>9123</td><td>b</td><td>75.16</td><td>117.44</td></tr>",
                            "<tr><td>S12_3891</td><td>1969 Ford Falcon</td><td>Classic Cars</td><td>1:12</td><td>Second Gear Diecast</td><td>Turnable front wheels; steering function; detailed interior; detailed engine; opening hood; opening trunk; opening doors; and detailed chassis.</td><td>1049</td><td>b</td><td>83.05</td><td>173.02</td></tr>",
                            "<tr><td>S12_3990</td><td>1970 Plymouth Hemi Cuda</td><td>Classic Cars</td><td>1:12</td><td>Studio M Art Models</td><td>Very detailed 1970 Plymouth Cuda model in 1:12 scale. The Cuda is generally accepted as one of the fastest original muscle cars from the 1970s. This model is a reproduction of one of the orginal 652 cars built in 1970. Red color.</td><td>5663</td><td>b</td><td>31.92</td><td>79.80</td></tr>",
                            "<tr><td>S12_4473</td><td>1957 Chevy Pickup</td><td>Trucks and Buses</td><td>1:12</td><td>Exoto Designs</td><td>1:12 scale die-cast about 20&quot; long Hood opens, Rubber wheels</td><td>6125</td><td>d</td><td>55.70</td><td>118.50</td></tr>",
                            "<tr><td>S12_4675</td><td>1969 Dodge Charger</td><td>Classic Cars</td><td>1:12</td><td>Welly Diecast Productions</td><td>Detailed model of the 1969 Dodge Charger. This model includes finely detailed interior and exterior features. Painted in red and white.</td><td>7323</td><td>b</td><td>58.73</td><td>115.16</td></tr>",
                            "<tr><td>S18_1097</td><td>1940 Ford Pickup Truck</td><td>Trucks and Buses</td><td>1:18</td><td>Studio M Art Models</td><td>This model features soft rubber tires, working steering, rubber mud guards, authentic Ford logos, detailed undercarriage, opening doors and hood,  removable split rear gate, full size spare mounted in bed, detailed interior with opening glove box</td><td>2613</td><td>d</td><td>58.33</td><td>116.67</td></tr>",
                            "<tr><td>S18_1129</td><td>1993 Mazda RX-7</td><td>Classic Cars</td><td>1:18</td><td>Highway 66 Mini Classics</td><td>This model features, opening hood, opening doors, detailed engine, rear spoiler, opening trunk, working steering, tinted windows, baked enamel finish. Color red.</td><td>3975</td><td>b</td><td>83.51</td><td>141.54</td></tr>",
                            "<tr><td>S18_1342</td><td>1937 Lincoln Berline</td><td>Vintage Cars</td><td>1:18</td><td>Motor City Art Classics</td><td>Features opening engine cover, doors, trunk, and fuel filler cap. Color black</td><td>8693</td><td>c</td><td>60.62</td><td>102.74</td></tr>",
                            "<tr><td>S18_1367</td><td>1936 Mercedes-Benz 500K Special Roadster</td><td>Vintage Cars</td><td>1:18</td><td>Studio M Art Models</td><td>This 1:18 scale replica is constructed of heavy die-cast metal and has all the features of the original: working doors and rumble seat, independent spring suspension, detailed interior, working steering system, and a bifold hood that reveals an engine so accurate that it even includes the wiring. All this is topped off with a baked enamel finish. Color white.</td><td>8635</td><td>c</td><td>24.26</td><td>53.91</td></tr>",
                            "<tr><td>S18_1589</td><td>1965 Aston Martin DB5</td><td>Classic Cars</td><td>1:18</td><td>Classic Metal Creations</td><td>Die-cast model of the silver 1965 Aston Martin DB5 in silver. This model includes full wire wheels and doors that open with fully detailed passenger compartment. In 1:18 scale, this model measures approximately 10 inches/20 cm long.</td><td>9042</td><td>b</td><td>65.96</td><td>124.44</td></tr>",
                            "<tr><td>S18_1662</td><td>1980s Black Hawk Helicopter</td><td>Planes</td><td>1:18</td><td>Red Start Diecast</td><td>1:18 scale replica of actual Army&#39;s UH-60L BLACK HAWK Helicopter. 100% hand-assembled. Features rotating rotor blades, propeller blades and rubber wheels.</td><td>5330</td><td>a</td><td>77.27</td><td>157.69</td></tr>",
                            "<tr><td>S18_1749</td><td>1917 Grand Touring Sedan</td><td>Vintage Cars</td><td>1:18</td><td>Welly Diecast Productions</td><td>This 1:18 scale replica of the 1917 Grand Touring car has all the features you would expect from museum quality reproductions: all four doors and bi-fold hood opening, detailed engine and instrument panel, chrome-look trim, and tufted upholstery, all topped off with a factory baked-enamel finish.</td><td>2724</td><td>c</td><td>86.70</td><td>170.00</td></tr>",
                            "<tr><td>S18_1889</td><td>1948 Porsche 356-A Roadster</td><td>Classic Cars</td><td>1:18</td><td>Gearbox Collectibles</td><td>This precision die-cast replica features opening doors, superb detail and craftsmanship, working steering system, opening forward compartment, opening rear trunk with removable spare, 4 wheel independent spring suspension as well as factory baked enamel finish.</td><td>8826</td><td>b</td><td>53.90</td><td>77.00</td></tr>",
                            "<tr><td>S18_1984</td><td>1995 Honda Civic</td><td>Classic Cars</td><td>1:18</td><td>Min Lin Diecast</td><td>This model features, opening hood, opening doors, detailed engine, rear spoiler, opening trunk, working steering, tinted windows, baked enamel finish. Color yellow.</td><td>9772</td><td>b</td><td>93.89</td><td>142.25</td></tr>",
                            "<tr><td>S18_2238</td><td>1998 Chrysler Plymouth Prowler</td><td>Classic Cars</td><td>1:18</td><td>Gearbox Collectibles</td><td>Turnable front wheels; steering function; detailed interior; detailed engine; opening hood; opening trunk; opening doors; and detailed chassis.</td><td>4724</td><td>b</td><td>101.51</td><td>163.73</td></tr>",
                            "<tr><td>S18_2248</td><td>1911 Ford Town Car</td><td>Vintage Cars</td><td>1:18</td><td>Motor City Art Classics</td><td>Features opening hood, opening doors, opening trunk, wide white wall tires, front door arm rests, working steering system.</td><td>540</td><td>c</td><td>33.30</td><td>60.54</td></tr>",
                            "<tr><td>S18_2319</td><td>1964 Mercedes Tour Bus</td><td>Trucks and Buses</td><td>1:18</td><td>Unimax Art Galleries</td><td>Exact replica. 100+ parts. working steering system, original logos</td><td>8258</td><td>d</td><td>74.86</td><td>122.73</td></tr>",
                            "<tr><td>S18_2325</td><td>1932 Model A Ford J-Coupe</td><td>Vintage Cars</td><td>1:18</td><td>Autoart Studio Design</td><td>This model features grille-mounted chrome horn, lift-up louvered hood, fold-down rumble seat, working steering system, chrome-covered spare, opening doors, detailed and wired engine</td><td>9354</td><td>c</td><td>58.48</td><td>127.13</td></tr>",
                            "<tr><td>S18_2432</td><td>1926 Ford Fire Engine</td><td>Trucks and Buses</td><td>1:18</td><td>Carousel DieCast Legends</td><td>Gleaming red handsome appearance. Everything is here the fire hoses, ladder, axes, bells, lanterns, ready to fight any inferno.</td><td>2018</td><td>d</td><td>24.92</td><td>60.77</td></tr>",
                            "<tr><td>S18_2581</td><td>P-51-D Mustang</td><td>Planes</td><td>1:72</td><td>Gearbox Collectibles</td><td>Has retractable wheels and comes with a stand</td><td>992</td><td>a</td><td>49.00</td><td>84.48</td></tr>",
                            "<tr><td>S18_2625</td><td>1936 Harley Davidson El Knucklehead</td><td>Motorcycles</td><td>1:18</td><td>Welly Diecast Productions</td><td>Intricately detailed with chrome accents and trim, official die-struck logos and baked enamel finish.</td><td>4357</td><td>a</td><td>24.23</td><td>60.57</td></tr>",
                            "<tr><td>S18_2795</td><td>1928 Mercedes-Benz SSK</td><td>Vintage Cars</td><td>1:18</td><td>Gearbox Collectibles</td><td>This 1:18 replica features grille-mounted chrome horn, lift-up louvered hood, fold-down rumble seat, working steering system, chrome-covered spare, opening doors, detailed and wired engine. Color black.</td><td>548</td><td>c</td><td>72.56</td><td>168.75</td></tr>",
                            "<tr><td>S18_2870</td><td>1999 Indy 500 Monte Carlo SS</td><td>Classic Cars</td><td>1:18</td><td>Red Start Diecast</td><td>Features include opening and closing doors. Color: Red</td><td>8164</td><td>b</td><td>56.76</td><td>132.00</td></tr>",
                            "<tr><td>S18_2949</td><td>1913 Ford Model T Speedster</td><td>Vintage Cars</td><td>1:18</td><td>Carousel DieCast Legends</td><td>This 250 part reproduction includes moving handbrakes, clutch, throttle and foot pedals, squeezable horn, detailed wired engine, removable water, gas, and oil cans, pivoting monocle windshield, all topped with a baked enamel red finish. Each replica comes with an Owners Title and Certificate of Authenticity. Color red.</td><td>4189</td><td>c</td><td>60.78</td><td>101.31</td></tr>",
                            "<tr><td>S18_2957</td><td>1934 Ford V8 Coupe</td><td>Vintage Cars</td><td>1:18</td><td>Min Lin Diecast</td><td>Chrome Trim, Chrome Grille, Opening Hood, Opening Doors, Opening Trunk, Detailed Engine, Working Steering System</td><td>5649</td><td>c</td><td>34.35</td><td>62.46</td></tr>",
                            "<tr><td>S18_3029</td><td>1999 Yamaha Speed Boat</td><td>Ships</td><td>1:18</td><td>Min Lin Diecast</td><td>Exact replica. Wood and Metal. Many extras including rigging, long boats, pilot house, anchors, etc. Comes with three masts, all square-rigged.</td><td>4259</td><td>d</td><td>51.61</td><td>86.02</td></tr>",
                            "<tr><td>S18_3136</td><td>18th Century Vintage Horse Carriage</td><td>Vintage Cars</td><td>1:18</td><td>Red Start Diecast</td><td>Hand crafted diecast-like metal horse carriage is re-created in about 1:18 scale of antique horse carriage. This antique style metal Stagecoach is all hand-assembled with many different parts.\r\n\r\nThis collectible metal horse carriage is painted in classic Red, and features turning steering wheel and is entirely hand-finished.</td><td>5992</td><td>c</td><td>60.74</td><td>104.72</td></tr>",
                            "<tr><td>S18_3140</td><td>1903 Ford Model A</td><td>Vintage Cars</td><td>1:18</td><td>Unimax Art Galleries</td><td>Features opening trunk,  working steering system</td><td>3913</td><td>c</td><td>68.30</td><td>136.59</td></tr>",
                            "<tr><td>S18_3232</td><td>1992 Ferrari 360 Spider red</td><td>Classic Cars</td><td>1:18</td><td>Unimax Art Galleries</td><td>his replica features opening doors, superb detail and craftsmanship, working steering system, opening forward compartment, opening rear trunk with removable spare, 4 wheel independent spring suspension as well as factory baked enamel finish.</td><td>8347</td><td>b</td><td>77.90</td><td>169.34</td></tr>",
                            "<tr><td>S18_3233</td><td>1985 Toyota Supra</td><td>Classic Cars</td><td>1:18</td><td>Highway 66 Mini Classics</td><td>This model features soft rubber tires, working steering, rubber mud guards, authentic Ford logos, detailed undercarriage, opening doors and hood, removable split rear gate, full size spare mounted in bed, detailed interior with opening glove box</td><td>7733</td><td>b</td><td>57.01</td><td>107.57</td></tr>",
                            "<tr><td>S18_3259</td><td>Collectable Wooden Train</td><td>Trains</td><td>1:18</td><td>Carousel DieCast Legends</td><td>Hand crafted wooden toy train set is in about 1:18 scale, 25 inches in total length including 2 additional carts, of actual vintage train. This antique style wooden toy train model set is all hand-assembled with 100% wood.</td><td>6450</td><td>d</td><td>67.56</td><td>100.84</td></tr>",
                            "<tr><td>S18_3278</td><td>1969 Dodge Super Bee</td><td>Classic Cars</td><td>1:18</td><td>Min Lin Diecast</td><td>This replica features opening doors, superb detail and craftsmanship, working steering system, opening forward compartment, opening rear trunk with removable spare, 4 wheel independent spring suspension as well as factory baked enamel finish.</td><td>1917</td><td>b</td><td>49.05</td><td>80.41</td></tr>",
                            "<tr><td>S18_3320</td><td>1917 Maxwell Touring Car</td><td>Vintage Cars</td><td>1:18</td><td>Exoto Designs</td><td>Features Gold Trim, Full Size Spare Tire, Chrome Trim, Chrome Grille, Opening Hood, Opening Doors, Opening Trunk, Detailed Engine, Working Steering System</td><td>7913</td><td>c</td><td>57.54</td><td>99.21</td></tr>",
                            "<tr><td>S18_3482</td><td>1976 Ford Gran Torino</td><td>Classic Cars</td><td>1:18</td><td>Gearbox Collectibles</td><td>Highly detailed 1976 Ford Gran Torino &quot;Starsky and Hutch&quot; diecast model. Very well constructed and painted in red and white patterns.</td><td>9127</td><td>b</td><td>73.49</td><td>146.99</td></tr>",
                            "<tr><td>S18_3685</td><td>1948 Porsche Type 356 Roadster</td><td>Classic Cars</td><td>1:18</td><td>Gearbox Collectibles</td><td>This model features working front and rear suspension on accurately replicated and actuating shock absorbers as well as opening engine cover, rear stabilizer flap,  and 4 opening doors.</td><td>8990</td><td>b</td><td>62.16</td><td>141.28</td></tr>",
                            "<tr><td>S18_3782</td><td>1957 Vespa GS150</td><td>Motorcycles</td><td>1:18</td><td>Studio M Art Models</td><td>Features rotating wheels , working kick stand. Comes with stand.</td><td>7689</td><td>a</td><td>32.95</td><td>62.17</td></tr>",
                            "<tr><td>S18_3856</td><td>1941 Chevrolet Special Deluxe Cabriolet</td><td>Vintage Cars</td><td>1:18</td><td>Exoto Designs</td><td>Features opening hood, opening doors, opening trunk, wide white wall tires, front door arm rests, working steering system, leather upholstery. Color black.</td><td>2378</td><td>c</td><td>64.58</td><td>105.87</td></tr>",
                            "<tr><td>S18_4027</td><td>1970 Triumph Spitfire</td><td>Classic Cars</td><td>1:18</td><td>Min Lin Diecast</td><td>Features include opening and closing doors. Color: White.</td><td>5545</td><td>b</td><td>91.92</td><td>143.62</td></tr>",
                            "<tr><td>S18_4409</td><td>1932 Alfa Romeo 8C2300 Spider Sport</td><td>Vintage Cars</td><td>1:18</td><td>Exoto Designs</td><td>This 1:18 scale precision die cast replica features the 6 front headlights of the original, plus a detailed version of the 142 horsepower straight 8 engine, dual spares and their famous comprehensive dashboard. Color black.</td><td>6553</td><td>c</td><td>43.26</td><td>92.03</td></tr>",
                            "<tr><td>S18_4522</td><td>1904 Buick Runabout</td><td>Vintage Cars</td><td>1:18</td><td>Exoto Designs</td><td>Features opening trunk,  working steering system</td><td>8290</td><td>c</td><td>52.66</td><td>87.77</td></tr>",
                            "<tr><td>S18_4600</td><td>1940s Ford truck</td><td>Trucks and Buses</td><td>1:18</td><td>Motor City Art Classics</td><td>This 1940s Ford Pick-Up truck is re-created in 1:18 scale of original 1940s Ford truck. This antique style metal 1940s Ford Flatbed truck is all hand-assembled. This collectible 1940&#39;s Pick-Up truck is painted in classic dark green color, and features rotating wheels.</td><td>3128</td><td>d</td><td>84.76</td><td>121.08</td></tr>",
                            "<tr><td>S18_4668</td><td>1939 Cadillac Limousine</td><td>Vintage Cars</td><td>1:18</td><td>Studio M Art Models</td><td>Features completely detailed interior including Velvet flocked drapes,deluxe wood grain floor, and a wood grain casket with seperate chrome handles</td><td>6645</td><td>c</td><td>23.14</td><td>50.31</td></tr>",
                            "<tr><td>S18_4721</td><td>1957 Corvette Convertible</td><td>Classic Cars</td><td>1:18</td><td>Classic Metal Creations</td><td>1957 die cast Corvette Convertible in Roman Red with white sides and whitewall tires. 1:18 scale quality die-cast with detailed engine and underbvody. Now you can own The Classic Corvette.</td><td>1249</td><td>b</td><td>69.93</td><td>148.80</td></tr>",
                            "<tr><td>S18_4933</td><td>1957 Ford Thunderbird</td><td>Classic Cars</td><td>1:18</td><td>Studio M Art Models</td><td>This 1:18 scale precision die-cast replica, with its optional porthole hardtop and factory baked-enamel Thunderbird Bronze finish, is a 100% accurate rendition of this American classic.</td><td>3209</td><td>b</td><td>34.21</td><td>71.27</td></tr>",
                            "<tr><td>S24_1046</td><td>1970 Chevy Chevelle SS 454</td><td>Classic Cars</td><td>1:24</td><td>Unimax Art Galleries</td><td>This model features rotating wheels, working streering system and opening doors. All parts are particularly delicate due to their precise scale and require special care and attention. It should not be picked up by the doors, roof, hood or trunk.</td><td>1005</td><td>b</td><td>49.24</td><td>73.49</td></tr>",
                            "<tr><td>S24_1444</td><td>1970 Dodge Coronet</td><td>Classic Cars</td><td>1:24</td><td>Highway 66 Mini Classics</td><td>1:24 scale die-cast about 18&quot; long doors open, hood opens and rubber wheels</td><td>4074</td><td>b</td><td>32.37</td><td>57.80</td></tr>",
                            "<tr><td>S24_1578</td><td>1997 BMW R 1100 S</td><td>Motorcycles</td><td>1:24</td><td>Autoart Studio Design</td><td>Detailed scale replica with working suspension and constructed from over 70 parts</td><td>7003</td><td>a</td><td>60.86</td><td>112.70</td></tr>",
                            "<tr><td>S24_1628</td><td>1966 Shelby Cobra 427 S/C</td><td>Classic Cars</td><td>1:24</td><td>Carousel DieCast Legends</td><td>This diecast model of the 1966 Shelby Cobra 427 S/C includes many authentic details and operating parts. The 1:24 scale model of this iconic lighweight sports car from the 1960s comes in silver and it&#39;s own display case.</td><td>8197</td><td>b</td><td>29.18</td><td>50.31</td></tr>",
                            "<tr><td>S24_1785</td><td>1928 British Royal Navy Airplane</td><td>Planes</td><td>1:24</td><td>Classic Metal Creations</td><td>Official logos and insignias</td><td>3627</td><td>a</td><td>66.74</td><td>109.42</td></tr>",
                            "<tr><td>S24_1937</td><td>1939 Chevrolet Deluxe Coupe</td><td>Vintage Cars</td><td>1:24</td><td>Motor City Art Classics</td><td>This 1:24 scale die-cast replica of the 1939 Chevrolet Deluxe Coupe has the same classy look as the original. Features opening trunk, hood and doors and a showroom quality baked enamel finish.</td><td>7332</td><td>c</td><td>22.57</td><td>33.19</td></tr>",
                            "<tr><td>S24_2000</td><td>1960 BSA Gold Star DBD34</td><td>Motorcycles</td><td>1:24</td><td>Highway 66 Mini Classics</td><td>Detailed scale replica with working suspension and constructed from over 70 parts</td><td>15</td><td>a</td><td>37.32</td><td>76.17</td></tr>",
                            "<tr><td>S24_2011</td><td>18th century schooner</td><td>Ships</td><td>1:24</td><td>Carousel DieCast Legends</td><td>All wood with canvas sails. Many extras including rigging, long boats, pilot house, anchors, etc. Comes with 4 masts, all square-rigged.</td><td>1898</td><td>d</td><td>82.34</td><td>122.89</td></tr>",
                            "<tr><td>S24_2022</td><td>1938 Cadillac V-16 Presidential Limousine</td><td>Vintage Cars</td><td>1:24</td><td>Classic Metal Creations</td><td>This 1:24 scale precision die cast replica of the 1938 Cadillac V-16 Presidential Limousine has all the details of the original, from the flags on the front to an opening back seat compartment complete with telephone and rifle. Features factory baked-enamel black finish, hood goddess ornament, working jump seats.</td><td>2847</td><td>c</td><td>20.61</td><td>44.80</td></tr>",
                            "<tr><td>S24_2300</td><td>1962 Volkswagen Microbus</td><td>Trucks and Buses</td><td>1:24</td><td>Autoart Studio Design</td><td>This 1:18 scale die cast replica of the 1962 Microbus is loaded with features: A working steering system, opening front doors and tailgate, and famous two-tone factory baked enamel finish, are all topped of by the sliding, real fabric, sunroof.</td><td>2327</td><td>d</td><td>61.34</td><td>127.79</td></tr>",
                            "<tr><td>S24_2360</td><td>1982 Ducati 900 Monster</td><td>Motorcycles</td><td>1:24</td><td>Highway 66 Mini Classics</td><td>Features two-tone paint with chrome accents, superior die-cast detail , rotating wheels , working kick stand</td><td>6840</td><td>a</td><td>47.10</td><td>69.26</td></tr>",
                            "<tr><td>S24_2766</td><td>1949 Jaguar XK 120</td><td>Classic Cars</td><td>1:24</td><td>Classic Metal Creations</td><td>Precision-engineered from original Jaguar specification in perfect scale ratio. Features opening doors, superb detail and craftsmanship, working steering system, opening forward compartment, opening rear trunk with removable spare, 4 wheel independent spring suspension as well as factory baked enamel finish.</td><td>2350</td><td>b</td><td>47.25</td><td>90.87</td></tr>",
                            "<tr><td>S24_2840</td><td>1958 Chevy Corvette Limited Edition</td><td>Classic Cars</td><td>1:24</td><td>Carousel DieCast Legends</td><td>The operating parts of this 1958 Chevy Corvette Limited Edition are particularly delicate due to their precise scale and require special care and attention. Features rotating wheels, working streering, opening doors and trunk. Color dark green.</td><td>2542</td><td>b</td><td>15.91</td><td>35.36</td></tr>",
                            "<tr><td>S24_2841</td><td>1900s Vintage Bi-Plane</td><td>Planes</td><td>1:24</td><td>Autoart Studio Design</td><td>Hand crafted diecast-like metal bi-plane is re-created in about 1:24 scale of antique pioneer airplane. All hand-assembled with many different parts. Hand-painted in classic yellow and features correct markings of original airplane.</td><td>5942</td><td>a</td><td>34.25</td><td>68.51</td></tr>",
                            "<tr><td>S24_2887</td><td>1952 Citroen-15CV</td><td>Classic Cars</td><td>1:24</td><td>Exoto Designs</td><td>Precision crafted hand-assembled 1:18 scale reproduction of the 1952 15CV, with its independent spring suspension, working steering system, opening doors and hood, detailed engine and instrument panel, all topped of with a factory fresh baked enamel finish.</td><td>1452</td><td>b</td><td>72.82</td><td>117.44</td></tr>",
                            "<tr><td>S24_2972</td><td>1982 Lamborghini Diablo</td><td>Classic Cars</td><td>1:24</td><td>Second Gear Diecast</td><td>This replica features opening doors, superb detail and craftsmanship, working steering system, opening forward compartment, opening rear trunk with removable spare, 4 wheel independent spring suspension as well as factory baked enamel finish.</td><td>7723</td><td>b</td><td>16.24</td><td>37.76</td></tr>",
                            "<tr><td>S24_3151</td><td>1912 Ford Model T Delivery Wagon</td><td>Vintage Cars</td><td>1:24</td><td>Min Lin Diecast</td><td>This model features chrome trim and grille, opening hood, opening doors, opening trunk, detailed engine, working steering system. Color white.</td><td>9173</td><td>c</td><td>46.91</td><td>88.51</td></tr>",
                            "<tr><td>S24_3191</td><td>1969 Chevrolet Camaro Z28</td><td>Classic Cars</td><td>1:24</td><td>Exoto Designs</td><td>1969 Z/28 Chevy Camaro 1:24 scale replica. The operating parts of this limited edition 1:24 scale diecast model car 1969 Chevy Camaro Z28- hood, trunk, wheels, streering, suspension and doors- are particularly delicate due to their precise scale and require special care and attention.</td><td>4695</td><td>b</td><td>50.51</td><td>85.61</td></tr>",
                            "<tr><td>S24_3371</td><td>1971 Alpine Renault 1600s</td><td>Classic Cars</td><td>1:24</td><td>Welly Diecast Productions</td><td>This 1971 Alpine Renault 1600s replica Features opening doors, superb detail and craftsmanship, working steering system, opening forward compartment, opening rear trunk with removable spare, 4 wheel independent spring suspension as well as factory baked enamel finish.</td><td>7995</td><td>b</td><td>38.58</td><td>61.23</td></tr>",
                            "<tr><td>S24_3420</td><td>1937 Horch 930V Limousine</td><td>Vintage Cars</td><td>1:24</td><td>Autoart Studio Design</td><td>Features opening hood, opening doors, opening trunk, wide white wall tires, front door arm rests, working steering system</td><td>2902</td><td>c</td><td>26.30</td><td>65.75</td></tr>",
                            "<tr><td>S24_3432</td><td>2002 Chevy Corvette</td><td>Classic Cars</td><td>1:24</td><td>Gearbox Collectibles</td><td>The operating parts of this limited edition Diecast 2002 Chevy Corvette 50th Anniversary Pace car Limited Edition are particularly delicate due to their precise scale and require special care and attention. Features rotating wheels, poseable streering, opening doors and trunk.</td><td>9446</td><td>b</td><td>62.11</td><td>107.08</td></tr>",
                            "<tr><td>S24_3816</td><td>1940 Ford Delivery Sedan</td><td>Vintage Cars</td><td>1:24</td><td>Carousel DieCast Legends</td><td>Chrome Trim, Chrome Grille, Opening Hood, Opening Doors, Opening Trunk, Detailed Engine, Working Steering System. Color black.</td><td>6621</td><td>c</td><td>48.64</td><td>83.86</td></tr>",
                            "<tr><td>S24_3856</td><td>1956 Porsche 356A Coupe</td><td>Classic Cars</td><td>1:18</td><td>Classic Metal Creations</td><td>Features include: Turnable front wheels; steering function; detailed interior; detailed engine; opening hood; opening trunk; opening doors; and detailed chassis.</td><td>6600</td><td>b</td><td>98.30</td><td>140.43</td></tr>",
                            "<tr><td>S24_3949</td><td>Corsair F4U ( Bird Cage)</td><td>Planes</td><td>1:24</td><td>Second Gear Diecast</td><td>Has retractable wheels and comes with a stand. Official logos and insignias.</td><td>6812</td><td>a</td><td>29.34</td><td>68.24</td></tr>",
                            "<tr><td>S24_3969</td><td>1936 Mercedes Benz 500k Roadster</td><td>Vintage Cars</td><td>1:24</td><td>Red Start Diecast</td><td>This model features grille-mounted chrome horn, lift-up louvered hood, fold-down rumble seat, working steering system and rubber wheels. Color black.</td><td>2081</td><td>c</td><td>21.75</td><td>41.03</td></tr>",
                            "<tr><td>S24_4048</td><td>1992 Porsche Cayenne Turbo Silver</td><td>Classic Cars</td><td>1:24</td><td>Exoto Designs</td><td>This replica features opening doors, superb detail and craftsmanship, working steering system, opening forward compartment, opening rear trunk with removable spare, 4 wheel independent spring suspension as well as factory baked enamel finish.</td><td>6582</td><td>b</td><td>69.78</td><td>118.28</td></tr>",
                            "<tr><td>S24_4258</td><td>1936 Chrysler Airflow</td><td>Vintage Cars</td><td>1:24</td><td>Second Gear Diecast</td><td>Features opening trunk,  working steering system. Color dark green.</td><td>4710</td><td>c</td><td>57.46</td><td>97.39</td></tr>",
                            "<tr><td>S24_4278</td><td>1900s Vintage Tri-Plane</td><td>Planes</td><td>1:24</td><td>Unimax Art Galleries</td><td>Hand crafted diecast-like metal Triplane is Re-created in about 1:24 scale of antique pioneer airplane. This antique style metal triplane is all hand-assembled with many different parts.</td><td>2756</td><td>a</td><td>36.23</td><td>72.45</td></tr>",
                            "<tr><td>S24_4620</td><td>1961 Chevrolet Impala</td><td>Classic Cars</td><td>1:18</td><td>Classic Metal Creations</td><td>This 1:18 scale precision die-cast reproduction of the 1961 Chevrolet Impala has all the features-doors, hood and trunk that open; detailed 409 cubic-inch engine; chrome dashboard and stick shift, two-tone interior; working steering system; all topped of with a factory baked-enamel finish.</td><td>7869</td><td>b</td><td>32.33</td><td>80.84</td></tr>",
                            "<tr><td>S32_1268</td><td>1980’s GM Manhattan Express</td><td>Trucks and Buses</td><td>1:32</td><td>Motor City Art Classics</td><td>This 1980’s era new look Manhattan express is still active, running from the Bronx to mid-town Manhattan. Has 35 opeining windows and working lights. Needs a battery.</td><td>5099</td><td>d</td><td>53.93</td><td>96.31</td></tr>",
                            "<tr><td>S32_1374</td><td>1997 BMW F650 ST</td><td>Motorcycles</td><td>1:32</td><td>Exoto Designs</td><td>Features official die-struck logos and baked enamel finish. Comes with stand.</td><td>178</td><td>a</td><td>66.92</td><td>99.89</td></tr>",
                            "<tr><td>S32_2206</td><td>1982 Ducati 996 R</td><td>Motorcycles</td><td>1:32</td><td>Gearbox Collectibles</td><td>Features rotating wheels , working kick stand. Comes with stand.</td><td>9241</td><td>a</td><td>24.14</td><td>40.23</td></tr>",
                            "<tr><td>S32_2509</td><td>1954 Greyhound Scenicruiser</td><td>Trucks and Buses</td><td>1:32</td><td>Classic Metal Creations</td><td>Model features bi-level seating, 50 windows, skylights &amp; glare resistant glass, working steering system, original logos</td><td>2874</td><td>d</td><td>25.98</td><td>54.11</td></tr>",
                            "<tr><td>S32_3207</td><td>1950&#39;s Chicago Surface Lines Streetcar</td><td>Trains</td><td>1:32</td><td>Gearbox Collectibles</td><td>This streetcar is a joy to see. It has 80 separate windows, electric wire guides, detailed interiors with seats, poles and drivers controls, rolling and turning wheel assemblies, plus authentic factory baked-enamel finishes (Green Hornet for Chicago and Cream and Crimson for Boston).</td><td>8601</td><td>d</td><td>26.72</td><td>62.14</td></tr>",
                            "<tr><td>S32_3522</td><td>1996 Peterbilt 379 Stake Bed with Outrigger</td><td>Trucks and Buses</td><td>1:32</td><td>Red Start Diecast</td><td>This model features, opening doors, detailed engine, working steering, tinted windows, detailed interior, die-struck logos, removable stakes operating outriggers, detachable second trailer, functioning 360-degree self loader, precision molded resin trailer and trim, baked enamel finish on cab</td><td>814</td><td>d</td><td>33.61</td><td>64.64</td></tr>",
                            "<tr><td>S32_4289</td><td>1928 Ford Phaeton Deluxe</td><td>Vintage Cars</td><td>1:32</td><td>Highway 66 Mini Classics</td><td>This model features grille-mounted chrome horn, lift-up louvered hood, fold-down rumble seat, working steering system</td><td>136</td><td>c</td><td>33.02</td><td>68.79</td></tr>",
                            "<tr><td>S32_4485</td><td>1974 Ducati 350 Mk3 Desmo</td><td>Motorcycles</td><td>1:32</td><td>Second Gear Diecast</td><td>This model features two-tone paint with chrome accents, superior die-cast detail , rotating wheels , working kick stand</td><td>3341</td><td>a</td><td>56.13</td><td>102.05</td></tr>",
                            "<tr><td>S50_1341</td><td>1930 Buick Marquette Phaeton</td><td>Vintage Cars</td><td>1:50</td><td>Studio M Art Models</td><td>Features opening trunk,  working steering system</td><td>7062</td><td>c</td><td>27.06</td><td>43.64</td></tr>",
                            "<tr><td>S50_1392</td><td>Diamond T620 Semi-Skirted Tanker</td><td>Trucks and Buses</td><td>1:50</td><td>Highway 66 Mini Classics</td><td>This limited edition model is licensed and perfectly scaled for Lionel Trains. The Diamond T620 has been produced in solid precision diecast and painted with a fire baked enamel finish. It comes with a removable tanker and is a perfect model to add authenticity to your static train or car layout or to just have on display.</td><td>1016</td><td>d</td><td>68.29</td><td>115.75</td></tr>",
                            "<tr><td>S50_1514</td><td>1962 City of Detroit Streetcar</td><td>Trains</td><td>1:50</td><td>Classic Metal Creations</td><td>This streetcar is a joy to see. It has 99 separate windows, electric wire guides, detailed interiors with seats, poles and drivers controls, rolling and turning wheel assemblies, plus authentic factory baked-enamel finishes (Green Hornet for Chicago and Cream and Crimson for Boston).</td><td>1645</td><td>d</td><td>37.49</td><td>58.58</td></tr>",
                            "<tr><td>S50_4713</td><td>2002 Yamaha YZR M1</td><td>Motorcycles</td><td>1:50</td><td>Autoart Studio Design</td><td>Features rotating wheels , working kick stand. Comes with stand.</td><td>600</td><td>a</td><td>34.17</td><td>81.36</td></tr>",
                            "<tr><td>S700_1138</td><td>The Schooner Bluenose</td><td>Ships</td><td>1:700</td><td>Autoart Studio Design</td><td>All wood with canvas sails. Measures 31 1/2 inches in Length, 22 inches High and 4 3/4 inches Wide. Many extras.\r\nThe schooner Bluenose was built in Nova Scotia in 1921 to fish the rough waters off the coast of Newfoundland. Because of the Bluenose racing prowess she became the pride of all Canadians. Still featured on stamps and the Canadian dime, the Bluenose was lost off Haiti in 1946.</td><td>1897</td><td>d</td><td>34.00</td><td>66.67</td></tr>",
                            "<tr><td>S700_1691</td><td>American Airlines: B767-300</td><td>Planes</td><td>1:700</td><td>Min Lin Diecast</td><td>Exact replia with official logos and insignias and retractable wheels</td><td>5841</td><td>a</td><td>51.15</td><td>91.34</td></tr>",
                            "<tr><td>S700_1938</td><td>The Mayflower</td><td>Ships</td><td>1:700</td><td>Studio M Art Models</td><td>Measures 31 1/2 inches Long x 25 1/2 inches High x 10 5/8 inches Wide\r\nAll wood with canvas sail. Extras include long boats, rigging, ladders, railing, anchors, side cannons, hand painted, etc.</td><td>737</td><td>d</td><td>43.30</td><td>86.61</td></tr>",
                            "<tr><td>S700_2047</td><td>HMS Bounty</td><td>Ships</td><td>1:700</td><td>Unimax Art Galleries</td><td>Measures 30 inches Long x 27 1/2 inches High x 4 3/4 inches Wide. \r\nMany extras including rigging, long boats, pilot house, anchors, etc. Comes with three masts, all square-rigged.</td><td>3501</td><td>d</td><td>39.83</td><td>90.52</td></tr>",
                            "<tr><td>S700_2466</td><td>America West Airlines B757-200</td><td>Planes</td><td>1:700</td><td>Motor City Art Classics</td><td>Official logos and insignias. Working steering system. Rotating jet engines</td><td>9653</td><td>a</td><td>68.80</td><td>99.72</td></tr>",
                            "<tr><td>S700_2610</td><td>The USS Constitution Ship</td><td>Ships</td><td>1:700</td><td>Red Start Diecast</td><td>All wood with canvas sails. Measures 31 1/2&quot; Length x 22 3/8&quot; High x 8 1/4&quot; Width. Extras include 4 boats on deck, sea sprite on bow, anchors, copper railing, pilot houses, etc.</td><td>7083</td><td>d</td><td>33.97</td><td>72.28</td></tr>",
                            "<tr><td>S700_2824</td><td>1982 Camaro Z28</td><td>Classic Cars</td><td>1:18</td><td>Carousel DieCast Legends</td><td>Features include opening and closing doors. Color: White. \r\nMeasures approximately 9 1/2&quot; Long.</td><td>6934</td><td>b</td><td>46.53</td><td>101.15</td></tr>",
                            "<tr><td>S700_2834</td><td>ATA: B757-300</td><td>Planes</td><td>1:700</td><td>Highway 66 Mini Classics</td><td>Exact replia with official logos and insignias and retractable wheels</td><td>7106</td><td>a</td><td>59.33</td><td>118.65</td></tr>",
                            "<tr><td>S700_3167</td><td>F/A 18 Hornet 1/72</td><td>Planes</td><td>1:72</td><td>Motor City Art Classics</td><td>10&quot; Wingspan with retractable landing gears.Comes with pilot</td><td>551</td><td>a</td><td>54.40</td><td>80.00</td></tr>",
                            "<tr><td>S700_3505</td><td>The Titanic</td><td>Ships</td><td>1:700</td><td>Carousel DieCast Legends</td><td>Completed model measures 19 1/2 inches long, 9 inches high, 3inches wide and is in barn red/black. All wood and metal.</td><td>1956</td><td>d</td><td>51.09</td><td>100.17</td></tr>",
                            "<tr><td>S700_3962</td><td>The Queen Mary</td><td>Ships</td><td>1:700</td><td>Welly Diecast Productions</td><td>Exact replica. Wood and Metal. Many extras including rigging, long boats, pilot house, anchors, etc. Comes with three masts, all square-rigged.</td><td>5088</td><td>d</td><td>53.63</td><td>99.31</td></tr>",
                            "<tr><td>S700_4002</td><td>American Airlines: MD-11S</td><td>Planes</td><td>1:700</td><td>Second Gear Diecast</td><td>Polished finish. Exact replia with official logos and insignias and retractable wheels</td><td>8820</td><td>a</td><td>36.27</td><td>74.03</td></tr>",
                            "<tr><td>S72_1253</td><td>Boeing X-32A JSF</td><td>Planes</td><td>1:72</td><td>Motor City Art Classics</td><td>10&quot; Wingspan with retractable landing gears.Comes with pilot</td><td>4857</td><td>a</td><td>32.77</td><td>49.66</td></tr>",
                            "<tr><td>S72_3212</td><td>Pont Yacht</td><td>Ships</td><td>1:72</td><td>Unimax Art Galleries</td><td>Measures 38 inches Long x 33 3/4 inches High. Includes a stand.\r\nMany extras including rigging, long boats, pilot house, anchors, etc. Comes with 2 masts, all square-rigged</td><td>414</td><td>d</td><td>33.30</td><td>54.60</td></tr>",
                            "</table>"
                        ]
                    }
                }
            ],
            "execution_count": 2
        },
        {
            "cell_type": "code",
            "source": [
                "-- Counting the total number of products across all warehouses --\r\n",
                "SELECT\r\n",
                "    COUNT(productCode) AS numberOfProducts,\r\n",
                "    SUM(quantityInStock) AS quantityInStock\r\n",
                "FROM mintclassics.products"
            ],
            "metadata": {
                "azdata_cell_guid": "6bdfc49a-8141-4f43-bb7e-ed6c94ff93fc",
                "language": "sql"
            },
            "outputs": [
                {
                    "output_type": "display_data",
                    "data": {
                        "text/html": "(1 row(s) affected)"
                    },
                    "metadata": {}
                },
                {
                    "output_type": "display_data",
                    "data": {
                        "text/html": "Total execution time: 00:00:01.017"
                    },
                    "metadata": {}
                },
                {
                    "output_type": "execute_result",
                    "metadata": {},
                    "execution_count": 3,
                    "data": {
                        "application/vnd.dataresource+json": {
                            "schema": {
                                "fields": [
                                    {
                                        "name": "numberOfProducts"
                                    },
                                    {
                                        "name": "quantityInStock"
                                    }
                                ]
                            },
                            "data": [
                                {
                                    "numberOfProducts": "110",
                                    "quantityInStock": "555131"
                                }
                            ]
                        },
                        "text/html": [
                            "<table>",
                            "<tr><th>numberOfProducts</th><th>quantityInStock</th></tr>",
                            "<tr><td>110</td><td>555131</td></tr>",
                            "</table>"
                        ]
                    }
                }
            ],
            "execution_count": 3
        },
        {
            "cell_type": "code",
            "source": [
                "-- Categorizing the number of stocks by `warehouseCode`--\r\n",
                "\r\n",
                "SELECT\r\n",
                "    warehouseCode,\r\n",
                "    COUNT(productCode) as numberOfProducts,\r\n",
                "    SUM(quantityInStock) as quantityInStock,\r\n",
                "    SUM(quantityInStock) / (SELECT SUM(quantityInStock) FROM mintclassics.products) as proportionOfTotalStock\r\n",
                "FROM mintclassics.products\r\n",
                "GROUP BY warehouseCode\r\n",
                "ORDER BY proportionOfTotalStock DESC"
            ],
            "metadata": {
                "language": "sql",
                "azdata_cell_guid": "9fcbd427-bb7f-4b76-aeab-15b4cb5b08e6"
            },
            "outputs": [
                {
                    "output_type": "display_data",
                    "data": {
                        "text/html": "(4 row(s) affected)"
                    },
                    "metadata": {}
                },
                {
                    "output_type": "display_data",
                    "data": {
                        "text/html": "Total execution time: 00:00:01.015"
                    },
                    "metadata": {}
                },
                {
                    "output_type": "execute_result",
                    "metadata": {},
                    "execution_count": 4,
                    "data": {
                        "application/vnd.dataresource+json": {
                            "schema": {
                                "fields": [
                                    {
                                        "name": "warehouseCode"
                                    },
                                    {
                                        "name": "numberOfProducts"
                                    },
                                    {
                                        "name": "quantityInStock"
                                    },
                                    {
                                        "name": "proportionOfTotalStock"
                                    }
                                ]
                            },
                            "data": [
                                {
                                    "warehouseCode": "b",
                                    "numberOfProducts": "38",
                                    "quantityInStock": "219183",
                                    "proportionOfTotalStock": "0.3948"
                                },
                                {
                                    "warehouseCode": "a",
                                    "numberOfProducts": "25",
                                    "quantityInStock": "131688",
                                    "proportionOfTotalStock": "0.2372"
                                },
                                {
                                    "warehouseCode": "c",
                                    "numberOfProducts": "24",
                                    "quantityInStock": "124880",
                                    "proportionOfTotalStock": "0.2250"
                                },
                                {
                                    "warehouseCode": "d",
                                    "numberOfProducts": "23",
                                    "quantityInStock": "79380",
                                    "proportionOfTotalStock": "0.1430"
                                }
                            ]
                        },
                        "text/html": [
                            "<table>",
                            "<tr><th>warehouseCode</th><th>numberOfProducts</th><th>quantityInStock</th><th>proportionOfTotalStock</th></tr>",
                            "<tr><td>b</td><td>38</td><td>219183</td><td>0.3948</td></tr>",
                            "<tr><td>a</td><td>25</td><td>131688</td><td>0.2372</td></tr>",
                            "<tr><td>c</td><td>24</td><td>124880</td><td>0.2250</td></tr>",
                            "<tr><td>d</td><td>23</td><td>79380</td><td>0.1430</td></tr>",
                            "</table>"
                        ]
                    }
                }
            ],
            "execution_count": 4
        },
        {
            "cell_type": "code",
            "source": [
                "-- Categorizing the number of stocks by `warehouseCode` and `productLine` --\r\n",
                "\r\n",
                "SELECT\r\n",
                "    warehouseCode,\r\n",
                "    productLine,\r\n",
                "    COUNT(productCode) as numberOfProducts,\r\n",
                "    SUM(quantityInStock) as quantityInStock,\r\n",
                "    SUM(quantityInStock) / (SELECT SUM(quantityInStock) FROM mintclassics.products) as proportionOfTotalStock\r\n",
                "FROM mintclassics.products\r\n",
                "GROUP BY warehouseCode, productLine\r\n",
                "ORDER BY warehouseCode"
            ],
            "metadata": {
                "language": "sql",
                "azdata_cell_guid": "5e717d85-e89e-4624-a580-76d17206f89d",
                "tags": []
            },
            "outputs": [
                {
                    "output_type": "display_data",
                    "data": {
                        "text/html": "(7 row(s) affected)"
                    },
                    "metadata": {}
                },
                {
                    "output_type": "display_data",
                    "data": {
                        "text/html": "Total execution time: 00:00:01.008"
                    },
                    "metadata": {}
                },
                {
                    "output_type": "execute_result",
                    "metadata": {},
                    "execution_count": 5,
                    "data": {
                        "application/vnd.dataresource+json": {
                            "schema": {
                                "fields": [
                                    {
                                        "name": "warehouseCode"
                                    },
                                    {
                                        "name": "productLine"
                                    },
                                    {
                                        "name": "numberOfProducts"
                                    },
                                    {
                                        "name": "quantityInStock"
                                    },
                                    {
                                        "name": "proportionOfTotalStock"
                                    }
                                ]
                            },
                            "data": [
                                {
                                    "warehouseCode": "a",
                                    "productLine": "Motorcycles",
                                    "numberOfProducts": "13",
                                    "quantityInStock": "69401",
                                    "proportionOfTotalStock": "0.1250"
                                },
                                {
                                    "warehouseCode": "a",
                                    "productLine": "Planes",
                                    "numberOfProducts": "12",
                                    "quantityInStock": "62287",
                                    "proportionOfTotalStock": "0.1122"
                                },
                                {
                                    "warehouseCode": "b",
                                    "productLine": "Classic Cars",
                                    "numberOfProducts": "38",
                                    "quantityInStock": "219183",
                                    "proportionOfTotalStock": "0.3948"
                                },
                                {
                                    "warehouseCode": "c",
                                    "productLine": "Vintage Cars",
                                    "numberOfProducts": "24",
                                    "quantityInStock": "124880",
                                    "proportionOfTotalStock": "0.2250"
                                },
                                {
                                    "warehouseCode": "d",
                                    "productLine": "Ships",
                                    "numberOfProducts": "9",
                                    "quantityInStock": "26833",
                                    "proportionOfTotalStock": "0.0483"
                                },
                                {
                                    "warehouseCode": "d",
                                    "productLine": "Trains",
                                    "numberOfProducts": "3",
                                    "quantityInStock": "16696",
                                    "proportionOfTotalStock": "0.0301"
                                },
                                {
                                    "warehouseCode": "d",
                                    "productLine": "Trucks and Buses",
                                    "numberOfProducts": "11",
                                    "quantityInStock": "35851",
                                    "proportionOfTotalStock": "0.0646"
                                }
                            ]
                        },
                        "text/html": [
                            "<table>",
                            "<tr><th>warehouseCode</th><th>productLine</th><th>numberOfProducts</th><th>quantityInStock</th><th>proportionOfTotalStock</th></tr>",
                            "<tr><td>a</td><td>Motorcycles</td><td>13</td><td>69401</td><td>0.1250</td></tr>",
                            "<tr><td>a</td><td>Planes</td><td>12</td><td>62287</td><td>0.1122</td></tr>",
                            "<tr><td>b</td><td>Classic Cars</td><td>38</td><td>219183</td><td>0.3948</td></tr>",
                            "<tr><td>c</td><td>Vintage Cars</td><td>24</td><td>124880</td><td>0.2250</td></tr>",
                            "<tr><td>d</td><td>Ships</td><td>9</td><td>26833</td><td>0.0483</td></tr>",
                            "<tr><td>d</td><td>Trains</td><td>3</td><td>16696</td><td>0.0301</td></tr>",
                            "<tr><td>d</td><td>Trucks and Buses</td><td>11</td><td>35851</td><td>0.0646</td></tr>",
                            "</table>"
                        ]
                    }
                }
            ],
            "execution_count": 5
        },
        {
            "cell_type": "markdown",
            "source": [
                "## Considering the Warehouse Capacity and the Amount of Stocks\n",
                "\n",
                "Before we decide to close the south warehouse, let's try to have a deeper understanding of the stock capacity of each warehouse. The result of the query below shows that the reason why the south warehouse contains the least amount of stocks is that it has the smallest capacity out of the four."
            ],
            "metadata": {
                "azdata_cell_guid": "15fbfd18-9505-420c-a741-77f3e03f8187"
            },
            "attachments": {}
        },
        {
            "cell_type": "code",
            "source": [
                "SELECT\r\n",
                "    a.warehouseCode,\r\n",
                "    (b.warehousePctCap / 100) as propCapConsumed,\r\n",
                "    SUM(quantityInStock) as quantityInStock,\r\n",
                "    CAST(ROUND(SUM(quantityInStock) / (b.warehousePctCap / 100)) AS UNSIGNED) as spaceRemaining,\r\n",
                "    SUM(quantityInStock) + CAST(ROUND(SUM(quantityInStock) / (b.warehousePctCap / 100)) AS UNSIGNED) as totalCapacity\r\n",
                "FROM mintclassics.products as a\r\n",
                "JOIN mintclassics.warehouses as b ON a.warehouseCode = b.warehouseCode \r\n",
                "GROUP BY warehouseCode\r\n",
                "ORDER BY warehouseCode"
            ],
            "metadata": {
                "azdata_cell_guid": "61d923d8-264d-4746-829f-f999e5c0231a",
                "language": "sql"
            },
            "outputs": [
                {
                    "output_type": "display_data",
                    "data": {
                        "text/html": "(4 row(s) affected)"
                    },
                    "metadata": {}
                },
                {
                    "output_type": "display_data",
                    "data": {
                        "text/html": "Total execution time: 00:00:01.013"
                    },
                    "metadata": {}
                },
                {
                    "output_type": "execute_result",
                    "metadata": {},
                    "execution_count": 6,
                    "data": {
                        "application/vnd.dataresource+json": {
                            "schema": {
                                "fields": [
                                    {
                                        "name": "warehouseCode"
                                    },
                                    {
                                        "name": "propCapConsumed"
                                    },
                                    {
                                        "name": "quantityInStock"
                                    },
                                    {
                                        "name": "spaceRemaining"
                                    },
                                    {
                                        "name": "totalCapacity"
                                    }
                                ]
                            },
                            "data": [
                                {
                                    "warehouseCode": "a",
                                    "propCapConsumed": "0.72",
                                    "quantityInStock": "131688",
                                    "spaceRemaining": "182900",
                                    "totalCapacity": "314588"
                                },
                                {
                                    "warehouseCode": "b",
                                    "propCapConsumed": "0.67",
                                    "quantityInStock": "219183",
                                    "spaceRemaining": "327139",
                                    "totalCapacity": "546322"
                                },
                                {
                                    "warehouseCode": "c",
                                    "propCapConsumed": "0.5",
                                    "quantityInStock": "124880",
                                    "spaceRemaining": "249760",
                                    "totalCapacity": "374640"
                                },
                                {
                                    "warehouseCode": "d",
                                    "propCapConsumed": "0.75",
                                    "quantityInStock": "79380",
                                    "spaceRemaining": "105840",
                                    "totalCapacity": "185220"
                                }
                            ]
                        },
                        "text/html": [
                            "<table>",
                            "<tr><th>warehouseCode</th><th>propCapConsumed</th><th>quantityInStock</th><th>spaceRemaining</th><th>totalCapacity</th></tr>",
                            "<tr><td>a</td><td>0.72</td><td>131688</td><td>182900</td><td>314588</td></tr>",
                            "<tr><td>b</td><td>0.67</td><td>219183</td><td>327139</td><td>546322</td></tr>",
                            "<tr><td>c</td><td>0.5</td><td>124880</td><td>249760</td><td>374640</td></tr>",
                            "<tr><td>d</td><td>0.75</td><td>79380</td><td>105840</td><td>185220</td></tr>",
                            "</table>"
                        ]
                    }
                }
            ],
            "execution_count": 6
        },
        {
            "cell_type": "markdown",
            "source": [
                "## Which Warehouse to Use\n",
                "\n",
                "Now let's see where we could best fit the stocks at the south warehouse using only the remaining space of the other warehouses. Based on the results of the below query, it can be found that the east warehouse still contains plenty of space even if we move all of the stocks from the south warehouse."
            ],
            "metadata": {
                "language": "sql",
                "azdata_cell_guid": "5712bd34-7a56-4b4c-a525-171b3bf84c38"
            },
            "attachments": {}
        },
        {
            "cell_type": "code",
            "source": [
                "SELECT\r\n",
                "    a.warehouseCode,\r\n",
                "    CAST(ROUND(SUM(quantityInStock) / (b.warehousePctCap / 100)) AS UNSIGNED) as spaceRemaining,\r\n",
                "    (ROUND(SUM(quantityInStock) / (b.warehousePctCap / 100)) - 185220) as remainingSpaceAferMovement\r\n",
                "FROM mintclassics.products as a\r\n",
                "JOIN mintclassics.warehouses as b ON a.warehouseCode = b.warehouseCode \r\n",
                "GROUP BY warehouseCode\r\n",
                "ORDER BY warehouseCode"
            ],
            "metadata": {
                "language": "sql",
                "azdata_cell_guid": "f64343aa-8b08-468a-8e5b-1f70cb83ac84"
            },
            "outputs": [
                {
                    "output_type": "display_data",
                    "data": {
                        "text/html": "(4 row(s) affected)"
                    },
                    "metadata": {}
                },
                {
                    "output_type": "display_data",
                    "data": {
                        "text/html": "Total execution time: 00:00:01.013"
                    },
                    "metadata": {}
                },
                {
                    "output_type": "execute_result",
                    "metadata": {},
                    "execution_count": 7,
                    "data": {
                        "application/vnd.dataresource+json": {
                            "schema": {
                                "fields": [
                                    {
                                        "name": "warehouseCode"
                                    },
                                    {
                                        "name": "spaceRemaining"
                                    },
                                    {
                                        "name": "remainingSpaceAferMovement"
                                    }
                                ]
                            },
                            "data": [
                                {
                                    "warehouseCode": "a",
                                    "spaceRemaining": "182900",
                                    "remainingSpaceAferMovement": "-2320.0"
                                },
                                {
                                    "warehouseCode": "b",
                                    "spaceRemaining": "327139",
                                    "remainingSpaceAferMovement": "141919.0"
                                },
                                {
                                    "warehouseCode": "c",
                                    "spaceRemaining": "249760",
                                    "remainingSpaceAferMovement": "64540.0"
                                },
                                {
                                    "warehouseCode": "d",
                                    "spaceRemaining": "105840",
                                    "remainingSpaceAferMovement": "-79380.0"
                                }
                            ]
                        },
                        "text/html": [
                            "<table>",
                            "<tr><th>warehouseCode</th><th>spaceRemaining</th><th>remainingSpaceAferMovement</th></tr>",
                            "<tr><td>a</td><td>182900</td><td>-2320.0</td></tr>",
                            "<tr><td>b</td><td>327139</td><td>141919.0</td></tr>",
                            "<tr><td>c</td><td>249760</td><td>64540.0</td></tr>",
                            "<tr><td>d</td><td>105840</td><td>-79380.0</td></tr>",
                            "</table>"
                        ]
                    }
                }
            ],
            "execution_count": 7
        },
        {
            "cell_type": "markdown",
            "source": [
                "## Conclusions\n",
                "\n",
                "In this notebook, we explored the distribution of products in each warehouse. By using the warehouse capacity as the basis of analysis, we were able to find out that the south warehouse does not hold much of the stocks and thus, its contents could be moved to the east warehouse where there was still so much room available.\n",
                "\n",
                "Before we finally conclude to close and move the contents of the south warehouse to the east warehouse, let's first consider other factors that may influence inventory reorganization and reduction. This will be the topic of the next notebook."
            ],
            "metadata": {
                "azdata_cell_guid": "c3a1404d-c721-402f-b885-416d498f4db8"
            },
            "attachments": {}
        }
    ]
}