{
    "metadata": {
        "kernelspec": {
            "name": "SQL",
            "display_name": "SQL",
            "language": "sql"
        },
        "language_info": {
            "name": "sql",
            "version": ""
        }
    },
    "nbformat_minor": 2,
    "nbformat": 4,
    "cells": [
        {
            "cell_type": "markdown",
            "source": [
                "# Exploring the Current Inventory\n",
                "\n",
                "In this notebook, I will explore several relevant tables to identify and count the current products in each of the company's warehouses."
            ],
            "metadata": {
                "azdata_cell_guid": "025cc312-e11d-4978-8189-c4e0485ca5fb"
            },
            "attachments": {}
        },
        {
            "cell_type": "markdown",
            "source": [
                "## Warehouse Information\n",
                "\n",
                "I'll start by exploring the number of warehouses. Based on the results of the query below, we can see that there are 4 warehouses distributed in the North, South, East, and West areas."
            ],
            "metadata": {
                "azdata_cell_guid": "6e9c78c2-d74d-42d5-a1e6-dd947291a2dc"
            },
            "attachments": {}
        },
        {
            "cell_type": "code",
            "source": [
                "SELECT * FROM mintclassics.warehouses"
            ],
            "metadata": {
                "azdata_cell_guid": "98c968c8-6430-41f6-b111-ade822157d2d",
                "language": "sql"
            },
            "outputs": [
                {
                    "output_type": "display_data",
                    "data": {
                        "text/html": "(4 row(s) affected)"
                    },
                    "metadata": {}
                },
                {
                    "output_type": "display_data",
                    "data": {
                        "text/html": "Total execution time: 00:00:01.053"
                    },
                    "metadata": {}
                },
                {
                    "output_type": "execute_result",
                    "metadata": {},
                    "execution_count": 9,
                    "data": {
                        "application/vnd.dataresource+json": {
                            "schema": {
                                "fields": [
                                    {
                                        "name": "warehouseCode"
                                    },
                                    {
                                        "name": "warehouseName"
                                    },
                                    {
                                        "name": "warehousePctCap"
                                    }
                                ]
                            },
                            "data": [
                                {
                                    "warehouseCode": "a",
                                    "warehouseName": "North",
                                    "warehousePctCap": "72"
                                },
                                {
                                    "warehouseCode": "b",
                                    "warehouseName": "East",
                                    "warehousePctCap": "67"
                                },
                                {
                                    "warehouseCode": "c",
                                    "warehouseName": "West",
                                    "warehousePctCap": "50"
                                },
                                {
                                    "warehouseCode": "d",
                                    "warehouseName": "South",
                                    "warehousePctCap": "75"
                                }
                            ]
                        },
                        "text/html": [
                            "<table>",
                            "<tr><th>warehouseCode</th><th>warehouseName</th><th>warehousePctCap</th></tr>",
                            "<tr><td>a</td><td>North</td><td>72</td></tr>",
                            "<tr><td>b</td><td>East</td><td>67</td></tr>",
                            "<tr><td>c</td><td>West</td><td>50</td></tr>",
                            "<tr><td>d</td><td>South</td><td>75</td></tr>",
                            "</table>"
                        ]
                    }
                }
            ],
            "execution_count": 9
        },
        {
            "cell_type": "markdown",
            "source": [
                "## Product Information\n",
                "\n",
                "The `product` table contains relevant details about each unique product. Based on the results of the below query, we have 110 products and a total of 555131 stocks across all warehouses.\n",
                "\n",
                "Upon checking the distribution of stocks per warehouse, it was found that the number of stocks in each warehouse was not evenly distributed. For instance, 39.48% of stocks were stored in the East warehouse. The north and west warehouse has an even amount of stocks.  The south warehouse contains the least amount of stocks comprising only 14.30%.\n",
                "\n",
                "With this imbalanced stock allocation, is closing the south warehouse a practical choice? How should we redistribute the stocks across the remaining three warehouses? Let's try to address these questions next."
            ],
            "metadata": {
                "language": "sql",
                "azdata_cell_guid": "4cf3da3a-9764-462d-be1e-a91a990a3ede"
            },
            "attachments": {}
        },
        {
            "cell_type": "code",
            "source": [
                "SELECT * FROM mintclassics.products\r\n",
                "LIMIT 10;"
            ],
            "metadata": {
                "language": "sql",
                "azdata_cell_guid": "40130401-c6d6-4783-aa90-3d27a99e4368"
            },
            "outputs": [
                {
                    "output_type": "display_data",
                    "data": {
                        "text/html": "(10 row(s) affected)"
                    },
                    "metadata": {}
                },
                {
                    "output_type": "display_data",
                    "data": {
                        "text/html": "Total execution time: 00:00:01.010"
                    },
                    "metadata": {}
                },
                {
                    "output_type": "execute_result",
                    "metadata": {},
                    "execution_count": 14,
                    "data": {
                        "application/vnd.dataresource+json": {
                            "schema": {
                                "fields": [
                                    {
                                        "name": "productCode"
                                    },
                                    {
                                        "name": "productName"
                                    },
                                    {
                                        "name": "productLine"
                                    },
                                    {
                                        "name": "productScale"
                                    },
                                    {
                                        "name": "productVendor"
                                    },
                                    {
                                        "name": "productDescription"
                                    },
                                    {
                                        "name": "quantityInStock"
                                    },
                                    {
                                        "name": "warehouseCode"
                                    },
                                    {
                                        "name": "buyPrice"
                                    },
                                    {
                                        "name": "MSRP"
                                    }
                                ]
                            },
                            "data": [
                                {
                                    "productCode": "S10_1678",
                                    "productName": "1969 Harley Davidson Ultimate Chopper",
                                    "productLine": "Motorcycles",
                                    "productScale": "1:10",
                                    "productVendor": "Min Lin Diecast",
                                    "productDescription": "This replica features working kickstand, front suspension, gear-shift lever, footbrake lever, drive chain, wheels and steering. All parts are particularly delicate due to their precise scale and require special care and attention.",
                                    "quantityInStock": "7933",
                                    "warehouseCode": "a",
                                    "buyPrice": "48.81",
                                    "MSRP": "95.70"
                                },
                                {
                                    "productCode": "S10_1949",
                                    "productName": "1952 Alpine Renault 1300",
                                    "productLine": "Classic Cars",
                                    "productScale": "1:10",
                                    "productVendor": "Classic Metal Creations",
                                    "productDescription": "Turnable front wheels; steering function; detailed interior; detailed engine; opening hood; opening trunk; opening doors; and detailed chassis.",
                                    "quantityInStock": "7305",
                                    "warehouseCode": "b",
                                    "buyPrice": "98.58",
                                    "MSRP": "214.30"
                                },
                                {
                                    "productCode": "S10_2016",
                                    "productName": "1996 Moto Guzzi 1100i",
                                    "productLine": "Motorcycles",
                                    "productScale": "1:10",
                                    "productVendor": "Highway 66 Mini Classics",
                                    "productDescription": "Official Moto Guzzi logos and insignias, saddle bags located on side of motorcycle, detailed engine, working steering, working suspension, two leather seats, luggage rack, dual exhaust pipes, small saddle bag located on handle bars, two-tone paint with chrome accents, superior die-cast detail , rotating wheels , working kick stand, diecast metal with plastic parts and baked enamel finish.",
                                    "quantityInStock": "6625",
                                    "warehouseCode": "a",
                                    "buyPrice": "68.99",
                                    "MSRP": "118.94"
                                },
                                {
                                    "productCode": "S10_4698",
                                    "productName": "2003 Harley-Davidson Eagle Drag Bike",
                                    "productLine": "Motorcycles",
                                    "productScale": "1:10",
                                    "productVendor": "Red Start Diecast",
                                    "productDescription": "Model features, official Harley Davidson logos and insignias, detachable rear wheelie bar, heavy diecast metal with resin parts, authentic multi-color tampo-printed graphics, separate engine drive belts, free-turning front fork, rotating tires and rear racing slick, certificate of authenticity, detailed engine, display stand\r\n, precision diecast replica, baked enamel finish, 1:10 scale model, removable fender, seat and tank cover piece for displaying the superior detail of the v-twin engine",
                                    "quantityInStock": "5582",
                                    "warehouseCode": "a",
                                    "buyPrice": "91.02",
                                    "MSRP": "193.66"
                                },
                                {
                                    "productCode": "S10_4757",
                                    "productName": "1972 Alfa Romeo GTA",
                                    "productLine": "Classic Cars",
                                    "productScale": "1:10",
                                    "productVendor": "Motor City Art Classics",
                                    "productDescription": "Features include: Turnable front wheels; steering function; detailed interior; detailed engine; opening hood; opening trunk; opening doors; and detailed chassis.",
                                    "quantityInStock": "3252",
                                    "warehouseCode": "b",
                                    "buyPrice": "85.68",
                                    "MSRP": "136.00"
                                },
                                {
                                    "productCode": "S10_4962",
                                    "productName": "1962 LanciaA Delta 16V",
                                    "productLine": "Classic Cars",
                                    "productScale": "1:10",
                                    "productVendor": "Second Gear Diecast",
                                    "productDescription": "Features include: Turnable front wheels; steering function; detailed interior; detailed engine; opening hood; opening trunk; opening doors; and detailed chassis.",
                                    "quantityInStock": "6791",
                                    "warehouseCode": "b",
                                    "buyPrice": "103.42",
                                    "MSRP": "147.74"
                                },
                                {
                                    "productCode": "S12_1099",
                                    "productName": "1968 Ford Mustang",
                                    "productLine": "Classic Cars",
                                    "productScale": "1:12",
                                    "productVendor": "Autoart Studio Design",
                                    "productDescription": "Hood, doors and trunk all open to reveal highly detailed interior features. Steering wheel actually turns the front wheels. Color dark green.",
                                    "quantityInStock": "68",
                                    "warehouseCode": "b",
                                    "buyPrice": "95.34",
                                    "MSRP": "194.57"
                                },
                                {
                                    "productCode": "S12_1108",
                                    "productName": "2001 Ferrari Enzo",
                                    "productLine": "Classic Cars",
                                    "productScale": "1:12",
                                    "productVendor": "Second Gear Diecast",
                                    "productDescription": "Turnable front wheels; steering function; detailed interior; detailed engine; opening hood; opening trunk; opening doors; and detailed chassis.",
                                    "quantityInStock": "3619",
                                    "warehouseCode": "b",
                                    "buyPrice": "95.59",
                                    "MSRP": "207.80"
                                },
                                {
                                    "productCode": "S12_1666",
                                    "productName": "1958 Setra Bus",
                                    "productLine": "Trucks and Buses",
                                    "productScale": "1:12",
                                    "productVendor": "Welly Diecast Productions",
                                    "productDescription": "Model features 30 windows, skylights & glare resistant glass, working steering system, original logos",
                                    "quantityInStock": "1579",
                                    "warehouseCode": "d",
                                    "buyPrice": "77.90",
                                    "MSRP": "136.67"
                                },
                                {
                                    "productCode": "S12_2823",
                                    "productName": "2002 Suzuki XREO",
                                    "productLine": "Motorcycles",
                                    "productScale": "1:12",
                                    "productVendor": "Unimax Art Galleries",
                                    "productDescription": "Official logos and insignias, saddle bags located on side of motorcycle, detailed engine, working steering, working suspension, two leather seats, luggage rack, dual exhaust pipes, small saddle bag located on handle bars, two-tone paint with chrome accents, superior die-cast detail , rotating wheels , working kick stand, diecast metal with plastic parts and baked enamel finish.",
                                    "quantityInStock": "9997",
                                    "warehouseCode": "a",
                                    "buyPrice": "66.27",
                                    "MSRP": "150.62"
                                }
                            ]
                        },
                        "text/html": [
                            "<table>",
                            "<tr><th>productCode</th><th>productName</th><th>productLine</th><th>productScale</th><th>productVendor</th><th>productDescription</th><th>quantityInStock</th><th>warehouseCode</th><th>buyPrice</th><th>MSRP</th></tr>",
                            "<tr><td>S10_1678</td><td>1969 Harley Davidson Ultimate Chopper</td><td>Motorcycles</td><td>1:10</td><td>Min Lin Diecast</td><td>This replica features working kickstand, front suspension, gear-shift lever, footbrake lever, drive chain, wheels and steering. All parts are particularly delicate due to their precise scale and require special care and attention.</td><td>7933</td><td>a</td><td>48.81</td><td>95.70</td></tr>",
                            "<tr><td>S10_1949</td><td>1952 Alpine Renault 1300</td><td>Classic Cars</td><td>1:10</td><td>Classic Metal Creations</td><td>Turnable front wheels; steering function; detailed interior; detailed engine; opening hood; opening trunk; opening doors; and detailed chassis.</td><td>7305</td><td>b</td><td>98.58</td><td>214.30</td></tr>",
                            "<tr><td>S10_2016</td><td>1996 Moto Guzzi 1100i</td><td>Motorcycles</td><td>1:10</td><td>Highway 66 Mini Classics</td><td>Official Moto Guzzi logos and insignias, saddle bags located on side of motorcycle, detailed engine, working steering, working suspension, two leather seats, luggage rack, dual exhaust pipes, small saddle bag located on handle bars, two-tone paint with chrome accents, superior die-cast detail , rotating wheels , working kick stand, diecast metal with plastic parts and baked enamel finish.</td><td>6625</td><td>a</td><td>68.99</td><td>118.94</td></tr>",
                            "<tr><td>S10_4698</td><td>2003 Harley-Davidson Eagle Drag Bike</td><td>Motorcycles</td><td>1:10</td><td>Red Start Diecast</td><td>Model features, official Harley Davidson logos and insignias, detachable rear wheelie bar, heavy diecast metal with resin parts, authentic multi-color tampo-printed graphics, separate engine drive belts, free-turning front fork, rotating tires and rear racing slick, certificate of authenticity, detailed engine, display stand\r\n, precision diecast replica, baked enamel finish, 1:10 scale model, removable fender, seat and tank cover piece for displaying the superior detail of the v-twin engine</td><td>5582</td><td>a</td><td>91.02</td><td>193.66</td></tr>",
                            "<tr><td>S10_4757</td><td>1972 Alfa Romeo GTA</td><td>Classic Cars</td><td>1:10</td><td>Motor City Art Classics</td><td>Features include: Turnable front wheels; steering function; detailed interior; detailed engine; opening hood; opening trunk; opening doors; and detailed chassis.</td><td>3252</td><td>b</td><td>85.68</td><td>136.00</td></tr>",
                            "<tr><td>S10_4962</td><td>1962 LanciaA Delta 16V</td><td>Classic Cars</td><td>1:10</td><td>Second Gear Diecast</td><td>Features include: Turnable front wheels; steering function; detailed interior; detailed engine; opening hood; opening trunk; opening doors; and detailed chassis.</td><td>6791</td><td>b</td><td>103.42</td><td>147.74</td></tr>",
                            "<tr><td>S12_1099</td><td>1968 Ford Mustang</td><td>Classic Cars</td><td>1:12</td><td>Autoart Studio Design</td><td>Hood, doors and trunk all open to reveal highly detailed interior features. Steering wheel actually turns the front wheels. Color dark green.</td><td>68</td><td>b</td><td>95.34</td><td>194.57</td></tr>",
                            "<tr><td>S12_1108</td><td>2001 Ferrari Enzo</td><td>Classic Cars</td><td>1:12</td><td>Second Gear Diecast</td><td>Turnable front wheels; steering function; detailed interior; detailed engine; opening hood; opening trunk; opening doors; and detailed chassis.</td><td>3619</td><td>b</td><td>95.59</td><td>207.80</td></tr>",
                            "<tr><td>S12_1666</td><td>1958 Setra Bus</td><td>Trucks and Buses</td><td>1:12</td><td>Welly Diecast Productions</td><td>Model features 30 windows, skylights &amp; glare resistant glass, working steering system, original logos</td><td>1579</td><td>d</td><td>77.90</td><td>136.67</td></tr>",
                            "<tr><td>S12_2823</td><td>2002 Suzuki XREO</td><td>Motorcycles</td><td>1:12</td><td>Unimax Art Galleries</td><td>Official logos and insignias, saddle bags located on side of motorcycle, detailed engine, working steering, working suspension, two leather seats, luggage rack, dual exhaust pipes, small saddle bag located on handle bars, two-tone paint with chrome accents, superior die-cast detail , rotating wheels , working kick stand, diecast metal with plastic parts and baked enamel finish.</td><td>9997</td><td>a</td><td>66.27</td><td>150.62</td></tr>",
                            "</table>"
                        ]
                    }
                }
            ],
            "execution_count": 14
        },
        {
            "cell_type": "code",
            "source": [
                "-- Counting the total number of products across all warehouses --\r\n",
                "SELECT\r\n",
                "    COUNT(productCode) AS numberOfProducts,\r\n",
                "    SUM(quantityInStock) AS quantityInStock\r\n",
                "FROM mintclassics.products"
            ],
            "metadata": {
                "azdata_cell_guid": "6bdfc49a-8141-4f43-bb7e-ed6c94ff93fc",
                "language": "sql"
            },
            "outputs": [
                {
                    "output_type": "display_data",
                    "data": {
                        "text/html": "(1 row(s) affected)"
                    },
                    "metadata": {}
                },
                {
                    "output_type": "display_data",
                    "data": {
                        "text/html": "Total execution time: 00:00:01.015"
                    },
                    "metadata": {}
                },
                {
                    "output_type": "execute_result",
                    "metadata": {},
                    "execution_count": 15,
                    "data": {
                        "application/vnd.dataresource+json": {
                            "schema": {
                                "fields": [
                                    {
                                        "name": "numberOfProducts"
                                    },
                                    {
                                        "name": "quantityInStock"
                                    }
                                ]
                            },
                            "data": [
                                {
                                    "numberOfProducts": "110",
                                    "quantityInStock": "555131"
                                }
                            ]
                        },
                        "text/html": [
                            "<table>",
                            "<tr><th>numberOfProducts</th><th>quantityInStock</th></tr>",
                            "<tr><td>110</td><td>555131</td></tr>",
                            "</table>"
                        ]
                    }
                }
            ],
            "execution_count": 15
        },
        {
            "cell_type": "code",
            "source": [
                "-- Categorizing the number of stocks by `warehouseCode`--\r\n",
                "\r\n",
                "SELECT\r\n",
                "    b.warehouseName,\r\n",
                "    COUNT(productCode) as numberOfProducts,\r\n",
                "    SUM(quantityInStock) as quantityInStock,\r\n",
                "    SUM(quantityInStock) / (SELECT SUM(quantityInStock) FROM mintclassics.products) as proportionOfTotalStock\r\n",
                "FROM mintclassics.products as a\r\n",
                "JOIN mintclassics.warehouses as b ON a.warehouseCode = b.warehouseCode \r\n",
                "GROUP BY b.warehouseName\r\n",
                "ORDER BY proportionOfTotalStock DESC"
            ],
            "metadata": {
                "language": "sql",
                "azdata_cell_guid": "9fcbd427-bb7f-4b76-aeab-15b4cb5b08e6"
            },
            "outputs": [
                {
                    "output_type": "display_data",
                    "data": {
                        "text/html": "(4 row(s) affected)"
                    },
                    "metadata": {}
                },
                {
                    "output_type": "display_data",
                    "data": {
                        "text/html": "Total execution time: 00:00:01.028"
                    },
                    "metadata": {}
                },
                {
                    "output_type": "execute_result",
                    "metadata": {},
                    "execution_count": 19,
                    "data": {
                        "application/vnd.dataresource+json": {
                            "schema": {
                                "fields": [
                                    {
                                        "name": "warehouseName"
                                    },
                                    {
                                        "name": "numberOfProducts"
                                    },
                                    {
                                        "name": "quantityInStock"
                                    },
                                    {
                                        "name": "proportionOfTotalStock"
                                    }
                                ]
                            },
                            "data": [
                                {
                                    "warehouseName": "East",
                                    "numberOfProducts": "38",
                                    "quantityInStock": "219183",
                                    "proportionOfTotalStock": "0.3948"
                                },
                                {
                                    "warehouseName": "North",
                                    "numberOfProducts": "25",
                                    "quantityInStock": "131688",
                                    "proportionOfTotalStock": "0.2372"
                                },
                                {
                                    "warehouseName": "West",
                                    "numberOfProducts": "24",
                                    "quantityInStock": "124880",
                                    "proportionOfTotalStock": "0.2250"
                                },
                                {
                                    "warehouseName": "South",
                                    "numberOfProducts": "23",
                                    "quantityInStock": "79380",
                                    "proportionOfTotalStock": "0.1430"
                                }
                            ]
                        },
                        "text/html": [
                            "<table>",
                            "<tr><th>warehouseName</th><th>numberOfProducts</th><th>quantityInStock</th><th>proportionOfTotalStock</th></tr>",
                            "<tr><td>East</td><td>38</td><td>219183</td><td>0.3948</td></tr>",
                            "<tr><td>North</td><td>25</td><td>131688</td><td>0.2372</td></tr>",
                            "<tr><td>West</td><td>24</td><td>124880</td><td>0.2250</td></tr>",
                            "<tr><td>South</td><td>23</td><td>79380</td><td>0.1430</td></tr>",
                            "</table>"
                        ]
                    }
                }
            ],
            "execution_count": 19
        },
        {
            "cell_type": "code",
            "source": [
                "-- Categorizing the number of stocks by `warehouseCode` and `productLine` --\r\n",
                "\r\n",
                "SELECT\r\n",
                "    b.warehouseName,\r\n",
                "    productLine,\r\n",
                "    COUNT(productCode) as numberOfProducts,\r\n",
                "    SUM(quantityInStock) as quantityInStock,\r\n",
                "    SUM(quantityInStock) / (SELECT SUM(quantityInStock) FROM mintclassics.products) as proportionOfTotalStock\r\n",
                "FROM mintclassics.products as a\r\n",
                "JOIN mintclassics.warehouses as b ON a.warehouseCode = b.warehouseCode\r\n",
                "GROUP BY b.warehouseName, productLine\r\n",
                "ORDER BY proportionOfTotalStock DESC"
            ],
            "metadata": {
                "language": "sql",
                "azdata_cell_guid": "5e717d85-e89e-4624-a580-76d17206f89d",
                "tags": []
            },
            "outputs": [
                {
                    "output_type": "display_data",
                    "data": {
                        "text/html": "(7 row(s) affected)"
                    },
                    "metadata": {}
                },
                {
                    "output_type": "display_data",
                    "data": {
                        "text/html": "Total execution time: 00:00:01.011"
                    },
                    "metadata": {}
                },
                {
                    "output_type": "execute_result",
                    "metadata": {},
                    "execution_count": 35,
                    "data": {
                        "application/vnd.dataresource+json": {
                            "schema": {
                                "fields": [
                                    {
                                        "name": "warehouseName"
                                    },
                                    {
                                        "name": "productLine"
                                    },
                                    {
                                        "name": "numberOfProducts"
                                    },
                                    {
                                        "name": "quantityInStock"
                                    },
                                    {
                                        "name": "proportionOfTotalStock"
                                    }
                                ]
                            },
                            "data": [
                                {
                                    "warehouseName": "East",
                                    "productLine": "Classic Cars",
                                    "numberOfProducts": "38",
                                    "quantityInStock": "219183",
                                    "proportionOfTotalStock": "0.3948"
                                },
                                {
                                    "warehouseName": "West",
                                    "productLine": "Vintage Cars",
                                    "numberOfProducts": "24",
                                    "quantityInStock": "124880",
                                    "proportionOfTotalStock": "0.2250"
                                },
                                {
                                    "warehouseName": "North",
                                    "productLine": "Motorcycles",
                                    "numberOfProducts": "13",
                                    "quantityInStock": "69401",
                                    "proportionOfTotalStock": "0.1250"
                                },
                                {
                                    "warehouseName": "North",
                                    "productLine": "Planes",
                                    "numberOfProducts": "12",
                                    "quantityInStock": "62287",
                                    "proportionOfTotalStock": "0.1122"
                                },
                                {
                                    "warehouseName": "South",
                                    "productLine": "Trucks and Buses",
                                    "numberOfProducts": "11",
                                    "quantityInStock": "35851",
                                    "proportionOfTotalStock": "0.0646"
                                },
                                {
                                    "warehouseName": "South",
                                    "productLine": "Ships",
                                    "numberOfProducts": "9",
                                    "quantityInStock": "26833",
                                    "proportionOfTotalStock": "0.0483"
                                },
                                {
                                    "warehouseName": "South",
                                    "productLine": "Trains",
                                    "numberOfProducts": "3",
                                    "quantityInStock": "16696",
                                    "proportionOfTotalStock": "0.0301"
                                }
                            ]
                        },
                        "text/html": [
                            "<table>",
                            "<tr><th>warehouseName</th><th>productLine</th><th>numberOfProducts</th><th>quantityInStock</th><th>proportionOfTotalStock</th></tr>",
                            "<tr><td>East</td><td>Classic Cars</td><td>38</td><td>219183</td><td>0.3948</td></tr>",
                            "<tr><td>West</td><td>Vintage Cars</td><td>24</td><td>124880</td><td>0.2250</td></tr>",
                            "<tr><td>North</td><td>Motorcycles</td><td>13</td><td>69401</td><td>0.1250</td></tr>",
                            "<tr><td>North</td><td>Planes</td><td>12</td><td>62287</td><td>0.1122</td></tr>",
                            "<tr><td>South</td><td>Trucks and Buses</td><td>11</td><td>35851</td><td>0.0646</td></tr>",
                            "<tr><td>South</td><td>Ships</td><td>9</td><td>26833</td><td>0.0483</td></tr>",
                            "<tr><td>South</td><td>Trains</td><td>3</td><td>16696</td><td>0.0301</td></tr>",
                            "</table>"
                        ]
                    }
                }
            ],
            "execution_count": 35
        },
        {
            "cell_type": "markdown",
            "source": [
                "## Considering the Warehouse Capacity and the Amount of Stocks\n",
                "\n",
                "Before we decide to close the south warehouse, let's try to have a deeper understanding of the stock capacity of each warehouse. The result of the query below shows that the reason why the south warehouse contains the least amount of stocks is that it has the smallest capacity out of the four."
            ],
            "metadata": {
                "azdata_cell_guid": "15fbfd18-9505-420c-a741-77f3e03f8187"
            },
            "attachments": {}
        },
        {
            "cell_type": "code",
            "source": [
                "SELECT\r\n",
                "    b.warehouseName,\r\n",
                "    ANY_VALUE((b.warehousePctCap / 100)) as propCapConsumed,\r\n",
                "    SUM(quantityInStock) as quantityInStock,\r\n",
                "    ANY_VALUE(CAST(ROUND(SUM(quantityInStock) / (b.warehousePctCap / 100)) AS UNSIGNED)) as spaceRemaining,\r\n",
                "    ANY_VALUE(SUM(quantityInStock) + CAST(ROUND(SUM(quantityInStock) / (b.warehousePctCap / 100)) AS UNSIGNED)) as totalCapacity\r\n",
                "FROM mintclassics.products as a\r\n",
                "JOIN mintclassics.warehouses as b ON a.warehouseCode = b.warehouseCode \r\n",
                "GROUP BY b.warehouseName\r\n",
                "ORDER BY totalCapacity DESC"
            ],
            "metadata": {
                "azdata_cell_guid": "61d923d8-264d-4746-829f-f999e5c0231a",
                "language": "sql"
            },
            "outputs": [
                {
                    "output_type": "display_data",
                    "data": {
                        "text/html": "(4 row(s) affected)"
                    },
                    "metadata": {}
                },
                {
                    "output_type": "display_data",
                    "data": {
                        "text/html": "Total execution time: 00:00:01.006"
                    },
                    "metadata": {}
                },
                {
                    "output_type": "execute_result",
                    "metadata": {},
                    "execution_count": 33,
                    "data": {
                        "application/vnd.dataresource+json": {
                            "schema": {
                                "fields": [
                                    {
                                        "name": "warehouseName"
                                    },
                                    {
                                        "name": "propCapConsumed"
                                    },
                                    {
                                        "name": "quantityInStock"
                                    },
                                    {
                                        "name": "spaceRemaining"
                                    },
                                    {
                                        "name": "totalCapacity"
                                    }
                                ]
                            },
                            "data": [
                                {
                                    "warehouseName": "East",
                                    "propCapConsumed": "0.67",
                                    "quantityInStock": "219183",
                                    "spaceRemaining": "327139",
                                    "totalCapacity": "546322"
                                },
                                {
                                    "warehouseName": "West",
                                    "propCapConsumed": "0.5",
                                    "quantityInStock": "124880",
                                    "spaceRemaining": "249760",
                                    "totalCapacity": "374640"
                                },
                                {
                                    "warehouseName": "North",
                                    "propCapConsumed": "0.72",
                                    "quantityInStock": "131688",
                                    "spaceRemaining": "182900",
                                    "totalCapacity": "314588"
                                },
                                {
                                    "warehouseName": "South",
                                    "propCapConsumed": "0.75",
                                    "quantityInStock": "79380",
                                    "spaceRemaining": "105840",
                                    "totalCapacity": "185220"
                                }
                            ]
                        },
                        "text/html": [
                            "<table>",
                            "<tr><th>warehouseName</th><th>propCapConsumed</th><th>quantityInStock</th><th>spaceRemaining</th><th>totalCapacity</th></tr>",
                            "<tr><td>East</td><td>0.67</td><td>219183</td><td>327139</td><td>546322</td></tr>",
                            "<tr><td>West</td><td>0.5</td><td>124880</td><td>249760</td><td>374640</td></tr>",
                            "<tr><td>North</td><td>0.72</td><td>131688</td><td>182900</td><td>314588</td></tr>",
                            "<tr><td>South</td><td>0.75</td><td>79380</td><td>105840</td><td>185220</td></tr>",
                            "</table>"
                        ]
                    }
                }
            ],
            "execution_count": 33
        },
        {
            "cell_type": "markdown",
            "source": [
                "## Which Warehouse to Use\n",
                "\n",
                "Now let's see where we could best fit the stocks at the south warehouse using only the remaining space of the other warehouses. Based on the results of the below query, it can be found that the east warehouse still contains plenty of space even if we move all of the stocks from the south warehouse."
            ],
            "metadata": {
                "language": "sql",
                "azdata_cell_guid": "5712bd34-7a56-4b4c-a525-171b3bf84c38"
            },
            "attachments": {}
        },
        {
            "cell_type": "code",
            "source": [
                "SELECT\r\n",
                "    b.warehouseName,\r\n",
                "    ANY_VALUE(CAST(ROUND(SUM(quantityInStock) / (b.warehousePctCap / 100)) AS UNSIGNED)) as spaceRemaining,\r\n",
                "    ANY_VALUE((ROUND(SUM(quantityInStock) / (b.warehousePctCap / 100)) - 185220)) as remainingSpaceAferMovement\r\n",
                "FROM mintclassics.products as a\r\n",
                "JOIN mintclassics.warehouses as b ON a.warehouseCode = b.warehouseCode\r\n",
                "WHERE b.warehouseName <> 'South'\r\n",
                "GROUP BY b.warehouseName\r\n",
                "ORDER BY remainingSpaceAferMovement DESC"
            ],
            "metadata": {
                "language": "sql",
                "azdata_cell_guid": "f64343aa-8b08-468a-8e5b-1f70cb83ac84"
            },
            "outputs": [
                {
                    "output_type": "display_data",
                    "data": {
                        "text/html": "(3 row(s) affected)"
                    },
                    "metadata": {}
                },
                {
                    "output_type": "display_data",
                    "data": {
                        "text/html": "Total execution time: 00:00:01.010"
                    },
                    "metadata": {}
                },
                {
                    "output_type": "execute_result",
                    "metadata": {},
                    "execution_count": 39,
                    "data": {
                        "application/vnd.dataresource+json": {
                            "schema": {
                                "fields": [
                                    {
                                        "name": "warehouseName"
                                    },
                                    {
                                        "name": "spaceRemaining"
                                    },
                                    {
                                        "name": "remainingSpaceAferMovement"
                                    }
                                ]
                            },
                            "data": [
                                {
                                    "warehouseName": "East",
                                    "spaceRemaining": "327139",
                                    "remainingSpaceAferMovement": "141919.0"
                                },
                                {
                                    "warehouseName": "West",
                                    "spaceRemaining": "249760",
                                    "remainingSpaceAferMovement": "64540.0"
                                },
                                {
                                    "warehouseName": "North",
                                    "spaceRemaining": "182900",
                                    "remainingSpaceAferMovement": "-2320.0"
                                }
                            ]
                        },
                        "text/html": [
                            "<table>",
                            "<tr><th>warehouseName</th><th>spaceRemaining</th><th>remainingSpaceAferMovement</th></tr>",
                            "<tr><td>East</td><td>327139</td><td>141919.0</td></tr>",
                            "<tr><td>West</td><td>249760</td><td>64540.0</td></tr>",
                            "<tr><td>North</td><td>182900</td><td>-2320.0</td></tr>",
                            "</table>"
                        ]
                    }
                }
            ],
            "execution_count": 39
        },
        {
            "cell_type": "markdown",
            "source": [
                "## Conclusions\n",
                "\n",
                "In this notebook, we explored the distribution of products in each warehouse. By using the warehouse capacity as the basis of analysis, we were able to find out that the south warehouse does not hold much of the stocks and thus, its contents could be moved to the east warehouse where there was still so much room available.\n",
                "\n",
                "Before we finally conclude to close and move the contents of the south warehouse to the east warehouse, let's first consider other factors that may influence inventory reorganization and reduction. This will be the topic of the next notebook."
            ],
            "metadata": {
                "azdata_cell_guid": "c3a1404d-c721-402f-b885-416d498f4db8"
            },
            "attachments": {}
        }
    ]
}