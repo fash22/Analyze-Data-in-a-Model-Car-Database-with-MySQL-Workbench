{
    "metadata": {
        "kernelspec": {
            "name": "SQL",
            "display_name": "SQL",
            "language": "sql"
        },
        "language_info": {
            "name": "sql",
            "version": ""
        }
    },
    "nbformat_minor": 2,
    "nbformat": 4,
    "cells": [
        {
            "cell_type": "markdown",
            "source": [
                "# Factors Influencing Inventory Reorganization and Reduction\n",
                "\n",
                "In the previous [notebook](.\\01%20-%20Current%20Inventory.ipynb), we explored the inventory of model cars across all warehouses. We found out that in terms of stock quantity and warehouse capacity, the contents of the south warehouse could all be moved to the east warehouse. In our initial investigation, we found out that the south warehouse was a candidate for closure.\n",
                "\n",
                "In this notebook, we will consider other factors that might change our decision to close the south warehouse by exploring other factors that might influence the closure and reorganization of warehouses."
            ],
            "metadata": {
                "azdata_cell_guid": "c412a05c-d90a-451f-9738-ca81e534c824"
            },
            "attachments": {}
        }
    ]
}